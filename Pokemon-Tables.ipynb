{
 "cells": [
  {
   "cell_type": "code",
   "execution_count": 36,
   "metadata": {
    "collapsed": true
   },
   "outputs": [],
   "source": [
    "from datascience import * #To install packages: Type \"py -m pip install SomePackage\" into gitbash!!\n",
    "import numpy as np\n",
    "import matplotlib\n",
    "matplotlib.use('Agg', warn=False)\n",
    "%matplotlib inline\n",
    "import matplotlib.pyplot as plots\n",
    "plots.style.use('fivethirtyeight')"
   ]
  },
  {
   "cell_type": "code",
   "execution_count": 4,
   "metadata": {
    "collapsed": true
   },
   "outputs": [],
   "source": [
    "raw = Table.read_table('pokemon.csv')"
   ]
  },
  {
   "cell_type": "code",
   "execution_count": 5,
   "metadata": {
    "collapsed": true
   },
   "outputs": [],
   "source": [
    "national_pokedex = raw.drop(range(1,19)).drop([\"base_egg_steps\",\"base_happiness\",\"experience_growth\",\"japanese_name\"])"
   ]
  },
  {
   "cell_type": "code",
   "execution_count": 6,
   "metadata": {},
   "outputs": [
    {
     "data": {
      "text/html": [
       "<table border=\"1\" class=\"dataframe\">\n",
       "    <thead>\n",
       "        <tr>\n",
       "            <th>abilities</th> <th>attack</th> <th>base_total</th> <th>capture_rate</th> <th>classfication</th> <th>defense</th> <th>height_m</th> <th>hp</th> <th>name</th> <th>percentage_male</th> <th>pokedex_number</th> <th>sp_attack</th> <th>sp_defense</th> <th>speed</th> <th>type1</th> <th>type2</th> <th>weight_kg</th>\n",
       "        </tr>\n",
       "    </thead>\n",
       "    <tbody>\n",
       "        <tr>\n",
       "            <td>['Sand Veil', 'Rough Skin']                 </td> <td>170   </td> <td>700       </td> <td>45          </td> <td>Mach Pokémon        </td> <td>115    </td> <td>1.9     </td> <td>108 </td> <td>Garchomp  </td> <td>50             </td> <td>445           </td> <td>120      </td> <td>95        </td> <td>92   </td> <td>dragon  </td> <td>ground  </td> <td>95       </td>\n",
       "        </tr>\n",
       "    </tbody>\n",
       "        <tr>\n",
       "            <td>['Steadfast', 'Inner Focus', 'Justified']   </td> <td>145   </td> <td>625       </td> <td>45          </td> <td>Aura Pokémon        </td> <td>88     </td> <td>1.2     </td> <td>70  </td> <td>Lucario   </td> <td>88.1           </td> <td>448           </td> <td>140      </td> <td>70        </td> <td>112  </td> <td>fighting</td> <td>steel   </td> <td>54       </td>\n",
       "        </tr>\n",
       "    </tbody>\n",
       "        <tr>\n",
       "            <td>['Steadfast', 'Justified']                  </td> <td>165   </td> <td>618       </td> <td>45          </td> <td>Blade Pokémon       </td> <td>95     </td> <td>1.6     </td> <td>68  </td> <td>Gallade   </td> <td>100            </td> <td>475           </td> <td>65       </td> <td>115       </td> <td>110  </td> <td>psychic </td> <td>fighting</td> <td>52       </td>\n",
       "        </tr>\n",
       "    </tbody>\n",
       "        <tr>\n",
       "            <td>['Snow Warning', 'Soundproof']              </td> <td>132   </td> <td>594       </td> <td>60          </td> <td>Frosted Tree Pokémon</td> <td>105    </td> <td>2.2     </td> <td>90  </td> <td>Abomasnow </td> <td>50             </td> <td>460           </td> <td>132      </td> <td>105       </td> <td>30   </td> <td>grass   </td> <td>ice     </td> <td>135.5    </td>\n",
       "        </tr>\n",
       "    </tbody>\n",
       "        <tr>\n",
       "            <td>['Cute Charm', 'Klutz', 'Limber']           </td> <td>136   </td> <td>580       </td> <td>60          </td> <td>Rabbit Pokémon      </td> <td>94     </td> <td>1.2     </td> <td>65  </td> <td>Lopunny   </td> <td>50             </td> <td>428           </td> <td>54       </td> <td>96        </td> <td>135  </td> <td>normal  </td> <td>nan     </td> <td>33.3     </td>\n",
       "        </tr>\n",
       "    </tbody>\n",
       "        <tr>\n",
       "            <td>['Hustle', 'Serene Grace', 'Super Luck']    </td> <td>50    </td> <td>545       </td> <td>30          </td> <td>Jubilee Pokémon     </td> <td>95     </td> <td>1.5     </td> <td>85  </td> <td>Togekiss  </td> <td>88.1           </td> <td>468           </td> <td>120      </td> <td>115       </td> <td>80   </td> <td>fairy   </td> <td>flying  </td> <td>38       </td>\n",
       "        </tr>\n",
       "    </tbody>\n",
       "        <tr>\n",
       "            <td>['Flame Body', 'Vital Spirit']              </td> <td>95    </td> <td>540       </td> <td>30          </td> <td>Blast Pokémon       </td> <td>67     </td> <td>1.6     </td> <td>75  </td> <td>Magmortar </td> <td>75.4           </td> <td>467           </td> <td>125      </td> <td>95        </td> <td>83   </td> <td>fire    </td> <td>nan     </td> <td>68       </td>\n",
       "        </tr>\n",
       "    </tbody>\n",
       "        <tr>\n",
       "            <td>['Motor Drive', 'Vital Spirit']             </td> <td>123   </td> <td>540       </td> <td>30          </td> <td>Thunderbolt Pokémon </td> <td>67     </td> <td>1.8     </td> <td>75  </td> <td>Electivire</td> <td>75.4           </td> <td>466           </td> <td>95       </td> <td>85        </td> <td>95   </td> <td>electric</td> <td>nan     </td> <td>138.6    </td>\n",
       "        </tr>\n",
       "    </tbody>\n",
       "        <tr>\n",
       "            <td>['Adaptability', 'Download', 'Analytic']    </td> <td>80    </td> <td>535       </td> <td>30          </td> <td>Virtual Pokémon     </td> <td>70     </td> <td>0.9     </td> <td>85  </td> <td>Porygon-Z </td> <td>nan            </td> <td>474           </td> <td>135      </td> <td>75        </td> <td>90   </td> <td>normal  </td> <td>nan     </td> <td>34       </td>\n",
       "        </tr>\n",
       "    </tbody>\n",
       "        <tr>\n",
       "            <td>['Chlorophyll', 'Leaf Guard', 'Regenerator']</td> <td>100   </td> <td>535       </td> <td>30          </td> <td>Vine Pokémon        </td> <td>125    </td> <td>2       </td> <td>100 </td> <td>Tangrowth </td> <td>50             </td> <td>465           </td> <td>110      </td> <td>50        </td> <td>50   </td> <td>grass   </td> <td>nan     </td> <td>128.6    </td>\n",
       "        </tr>\n",
       "    </tbody>\n",
       "</table>"
      ],
      "text/plain": [
       "abilities                                    | attack | base_total | capture_rate | classfication        | defense | height_m | hp   | name       | percentage_male | pokedex_number | sp_attack | sp_defense | speed | type1    | type2    | weight_kg\n",
       "['Sand Veil', 'Rough Skin']                  | 170    | 700        | 45           | Mach Pokémon         | 115     | 1.9      | 108  | Garchomp   | 50              | 445            | 120       | 95         | 92    | dragon   | ground   | 95\n",
       "['Steadfast', 'Inner Focus', 'Justified']    | 145    | 625        | 45           | Aura Pokémon         | 88      | 1.2      | 70   | Lucario    | 88.1            | 448            | 140       | 70         | 112   | fighting | steel    | 54\n",
       "['Steadfast', 'Justified']                   | 165    | 618        | 45           | Blade Pokémon        | 95      | 1.6      | 68   | Gallade    | 100             | 475            | 65        | 115        | 110   | psychic  | fighting | 52\n",
       "['Snow Warning', 'Soundproof']               | 132    | 594        | 60           | Frosted Tree Pokémon | 105     | 2.2      | 90   | Abomasnow  | 50              | 460            | 132       | 105        | 30    | grass    | ice      | 135.5\n",
       "['Cute Charm', 'Klutz', 'Limber']            | 136    | 580        | 60           | Rabbit Pokémon       | 94      | 1.2      | 65   | Lopunny    | 50              | 428            | 54        | 96         | 135   | normal   | nan      | 33.3\n",
       "['Hustle', 'Serene Grace', 'Super Luck']     | 50     | 545        | 30           | Jubilee Pokémon      | 95      | 1.5      | 85   | Togekiss   | 88.1            | 468            | 120       | 115        | 80    | fairy    | flying   | 38\n",
       "['Flame Body', 'Vital Spirit']               | 95     | 540        | 30           | Blast Pokémon        | 67      | 1.6      | 75   | Magmortar  | 75.4            | 467            | 125       | 95         | 83    | fire     | nan      | 68\n",
       "['Motor Drive', 'Vital Spirit']              | 123    | 540        | 30           | Thunderbolt Pokémon  | 67      | 1.8      | 75   | Electivire | 75.4            | 466            | 95        | 85         | 95    | electric | nan      | 138.6\n",
       "['Adaptability', 'Download', 'Analytic']     | 80     | 535        | 30           | Virtual Pokémon      | 70      | 0.9      | 85   | Porygon-Z  | nan             | 474            | 135       | 75         | 90    | normal   | nan      | 34\n",
       "['Chlorophyll', 'Leaf Guard', 'Regenerator'] | 100    | 535        | 30           | Vine Pokémon         | 125     | 2        | 100  | Tangrowth  | 50              | 465            | 110       | 50         | 50    | grass    | nan      | 128.6"
      ]
     },
     "execution_count": 6,
     "metadata": {},
     "output_type": "execute_result"
    }
   ],
   "source": [
    "sinnoh_pokedex = national_pokedex.where(\"generation\",are.equal_to(4)).drop(\"generation\")\n",
    "\n",
    "#Sinnoh non-legendary Pokemon with highest BST\n",
    "sinnoh_pokedex.sort(\"base_total\",descending =True).where(\"is_legendary\",are.not_equal_to(1)).drop(\"is_legendary\").take(np.arange(0,10))"
   ]
  },
  {
   "cell_type": "code",
   "execution_count": 7,
   "metadata": {},
   "outputs": [
    {
     "data": {
      "text/html": [
       "<table border=\"1\" class=\"dataframe\">\n",
       "    <thead>\n",
       "        <tr>\n",
       "            <th>abilities</th> <th>attack</th> <th>base_total</th> <th>capture_rate</th> <th>classfication</th> <th>defense</th> <th>height_m</th> <th>hp</th> <th>name</th> <th>percentage_male</th> <th>pokedex_number</th> <th>sp_attack</th> <th>sp_defense</th> <th>speed</th> <th>type1</th> <th>type2</th> <th>weight_kg</th> <th>is_legendary</th> <th>attack_total</th>\n",
       "        </tr>\n",
       "    </thead>\n",
       "    <tbody>\n",
       "        <tr>\n",
       "            <td>['Sand Veil', 'Rough Skin']              </td> <td>170   </td> <td>700       </td> <td>45          </td> <td>Mach Pokémon        </td> <td>115    </td> <td>1.9     </td> <td>108 </td> <td>Garchomp </td> <td>50             </td> <td>445           </td> <td>120      </td> <td>95        </td> <td>92   </td> <td>dragon  </td> <td>ground  </td> <td>95       </td> <td>0           </td> <td>290         </td>\n",
       "        </tr>\n",
       "    </tbody>\n",
       "        <tr>\n",
       "            <td>['Steadfast', 'Inner Focus', 'Justified']</td> <td>145   </td> <td>625       </td> <td>45          </td> <td>Aura Pokémon        </td> <td>88     </td> <td>1.2     </td> <td>70  </td> <td>Lucario  </td> <td>88.1           </td> <td>448           </td> <td>140      </td> <td>70        </td> <td>112  </td> <td>fighting</td> <td>steel   </td> <td>54       </td> <td>0           </td> <td>285         </td>\n",
       "        </tr>\n",
       "    </tbody>\n",
       "        <tr>\n",
       "            <td>['Pressure', 'Telepathy']                </td> <td>120   </td> <td>680       </td> <td>3           </td> <td>Spatial Pokémon     </td> <td>100    </td> <td>4.2     </td> <td>90  </td> <td>Palkia   </td> <td>nan            </td> <td>484           </td> <td>150      </td> <td>120       </td> <td>100  </td> <td>water   </td> <td>dragon  </td> <td>336      </td> <td>1           </td> <td>270         </td>\n",
       "        </tr>\n",
       "    </tbody>\n",
       "        <tr>\n",
       "            <td>['Pressure', 'Telepathy']                </td> <td>120   </td> <td>680       </td> <td>3           </td> <td>Temporal Pokémon    </td> <td>120    </td> <td>5.4     </td> <td>100 </td> <td>Dialga   </td> <td>nan            </td> <td>483           </td> <td>150      </td> <td>100       </td> <td>90   </td> <td>steel   </td> <td>dragon  </td> <td>683      </td> <td>1           </td> <td>270         </td>\n",
       "        </tr>\n",
       "    </tbody>\n",
       "        <tr>\n",
       "            <td>['Snow Warning', 'Soundproof']           </td> <td>132   </td> <td>594       </td> <td>60          </td> <td>Frosted Tree Pokémon</td> <td>105    </td> <td>2.2     </td> <td>90  </td> <td>Abomasnow</td> <td>50             </td> <td>460           </td> <td>132      </td> <td>105       </td> <td>30   </td> <td>grass   </td> <td>ice     </td> <td>135.5    </td> <td>0           </td> <td>264         </td>\n",
       "        </tr>\n",
       "    </tbody>\n",
       "        <tr>\n",
       "            <td>['Levitate']                             </td> <td>125   </td> <td>580       </td> <td>3           </td> <td>Willpower Pokémon   </td> <td>70     </td> <td>0.3     </td> <td>75  </td> <td>Azelf    </td> <td>nan            </td> <td>482           </td> <td>125      </td> <td>70        </td> <td>115  </td> <td>psychic </td> <td>nan     </td> <td>0.3      </td> <td>1           </td> <td>250         </td>\n",
       "        </tr>\n",
       "    </tbody>\n",
       "        <tr>\n",
       "            <td>['Multitype']                            </td> <td>120   </td> <td>720       </td> <td>3           </td> <td>Alpha Pokémon       </td> <td>120    </td> <td>3.2     </td> <td>120 </td> <td>Arceus   </td> <td>nan            </td> <td>493           </td> <td>120      </td> <td>120       </td> <td>120  </td> <td>normal  </td> <td>nan     </td> <td>320      </td> <td>1           </td> <td>240         </td>\n",
       "        </tr>\n",
       "    </tbody>\n",
       "        <tr>\n",
       "            <td>['Pressure', 'Telepathy', 'Levitate']    </td> <td>120   </td> <td>680       </td> <td>3           </td> <td>Renegade Pokémon    </td> <td>100    </td> <td>4.5     </td> <td>150 </td> <td>Giratina </td> <td>nan            </td> <td>487           </td> <td>120      </td> <td>100       </td> <td>90   </td> <td>ghost   </td> <td>dragon  </td> <td>750      </td> <td>1           </td> <td>240         </td>\n",
       "        </tr>\n",
       "    </tbody>\n",
       "        <tr>\n",
       "            <td>['Slow Start']                           </td> <td>160   </td> <td>670       </td> <td>3           </td> <td>Colossal Pokémon    </td> <td>110    </td> <td>3.7     </td> <td>110 </td> <td>Regigigas</td> <td>nan            </td> <td>486           </td> <td>80       </td> <td>110       </td> <td>100  </td> <td>normal  </td> <td>nan     </td> <td>420      </td> <td>1           </td> <td>240         </td>\n",
       "        </tr>\n",
       "    </tbody>\n",
       "        <tr>\n",
       "            <td>['Steadfast', 'Justified']               </td> <td>165   </td> <td>618       </td> <td>45          </td> <td>Blade Pokémon       </td> <td>95     </td> <td>1.6     </td> <td>68  </td> <td>Gallade  </td> <td>100            </td> <td>475           </td> <td>65       </td> <td>115       </td> <td>110  </td> <td>psychic </td> <td>fighting</td> <td>52       </td> <td>0           </td> <td>230         </td>\n",
       "        </tr>\n",
       "    </tbody>\n",
       "</table>\n",
       "<p>... (97 rows omitted)</p"
      ],
      "text/plain": [
       "abilities                                 | attack | base_total | capture_rate | classfication        | defense | height_m | hp   | name      | percentage_male | pokedex_number | sp_attack | sp_defense | speed | type1    | type2    | weight_kg | is_legendary | attack_total\n",
       "['Sand Veil', 'Rough Skin']               | 170    | 700        | 45           | Mach Pokémon         | 115     | 1.9      | 108  | Garchomp  | 50              | 445            | 120       | 95         | 92    | dragon   | ground   | 95        | 0            | 290\n",
       "['Steadfast', 'Inner Focus', 'Justified'] | 145    | 625        | 45           | Aura Pokémon         | 88      | 1.2      | 70   | Lucario   | 88.1            | 448            | 140       | 70         | 112   | fighting | steel    | 54        | 0            | 285\n",
       "['Pressure', 'Telepathy']                 | 120    | 680        | 3            | Spatial Pokémon      | 100     | 4.2      | 90   | Palkia    | nan             | 484            | 150       | 120        | 100   | water    | dragon   | 336       | 1            | 270\n",
       "['Pressure', 'Telepathy']                 | 120    | 680        | 3            | Temporal Pokémon     | 120     | 5.4      | 100  | Dialga    | nan             | 483            | 150       | 100        | 90    | steel    | dragon   | 683       | 1            | 270\n",
       "['Snow Warning', 'Soundproof']            | 132    | 594        | 60           | Frosted Tree Pokémon | 105     | 2.2      | 90   | Abomasnow | 50              | 460            | 132       | 105        | 30    | grass    | ice      | 135.5     | 0            | 264\n",
       "['Levitate']                              | 125    | 580        | 3            | Willpower Pokémon    | 70      | 0.3      | 75   | Azelf     | nan             | 482            | 125       | 70         | 115   | psychic  | nan      | 0.3       | 1            | 250\n",
       "['Multitype']                             | 120    | 720        | 3            | Alpha Pokémon        | 120     | 3.2      | 120  | Arceus    | nan             | 493            | 120       | 120        | 120   | normal   | nan      | 320       | 1            | 240\n",
       "['Pressure', 'Telepathy', 'Levitate']     | 120    | 680        | 3            | Renegade Pokémon     | 100     | 4.5      | 150  | Giratina  | nan             | 487            | 120       | 100        | 90    | ghost    | dragon   | 750       | 1            | 240\n",
       "['Slow Start']                            | 160    | 670        | 3            | Colossal Pokémon     | 110     | 3.7      | 110  | Regigigas | nan             | 486            | 80        | 110        | 100   | normal   | nan      | 420       | 1            | 240\n",
       "['Steadfast', 'Justified']                | 165    | 618        | 45           | Blade Pokémon        | 95      | 1.6      | 68   | Gallade   | 100             | 475            | 65        | 115        | 110   | psychic  | fighting | 52        | 0            | 230\n",
       "... (97 rows omitted)"
      ]
     },
     "execution_count": 7,
     "metadata": {},
     "output_type": "execute_result"
    }
   ],
   "source": [
    "#Sinnoh pokemon with highest attacking stats (PHYSICAL + SPECIAL)\n",
    "\n",
    "sinnoh_pokedex.with_column(\"attack_total\",sinnoh_pokedex.column(\"attack\")+sinnoh_pokedex.column(\"sp_attack\")).sort(\"attack_total\",True)"
   ]
  },
  {
   "cell_type": "code",
   "execution_count": 8,
   "metadata": {},
   "outputs": [
    {
     "data": {
      "text/html": [
       "<table border=\"1\" class=\"dataframe\">\n",
       "    <thead>\n",
       "        <tr>\n",
       "            <th>abilities</th> <th>attack</th> <th>base_total</th> <th>capture_rate</th> <th>classfication</th> <th>defense</th> <th>height_m</th> <th>hp</th> <th>name</th> <th>percentage_male</th> <th>pokedex_number</th> <th>sp_attack</th> <th>sp_defense</th> <th>speed</th> <th>type1</th> <th>type2</th> <th>weight_kg</th> <th>generation</th>\n",
       "        </tr>\n",
       "    </thead>\n",
       "    <tbody>\n",
       "        <tr>\n",
       "            <td>['Levitate']                               </td> <td>100   </td> <td>700       </td> <td>3           </td> <td>Eon Pokémon        </td> <td>120    </td> <td>1.4     </td> <td>80  </td> <td>Latias   </td> <td>0              </td> <td>380           </td> <td>140      </td> <td>150       </td> <td>110  </td> <td>dragon  </td> <td>psychic</td> <td>40       </td> <td>3         </td>\n",
       "        </tr>\n",
       "    </tbody>\n",
       "        <tr>\n",
       "            <td>['Levitate']                               </td> <td>130   </td> <td>700       </td> <td>3           </td> <td>Eon Pokémon        </td> <td>100    </td> <td>2       </td> <td>80  </td> <td>Latios   </td> <td>100            </td> <td>381           </td> <td>160      </td> <td>120       </td> <td>110  </td> <td>dragon  </td> <td>psychic</td> <td>60       </td> <td>3         </td>\n",
       "        </tr>\n",
       "    </tbody>\n",
       "        <tr>\n",
       "            <td>['Flash Fire', 'Flame Body']               </td> <td>90    </td> <td>600       </td> <td>3           </td> <td>Lava Dome Pokémon  </td> <td>106    </td> <td>1.7     </td> <td>91  </td> <td>Heatran  </td> <td>50             </td> <td>485           </td> <td>130      </td> <td>106       </td> <td>77   </td> <td>fire    </td> <td>steel  </td> <td>430      </td> <td>4         </td>\n",
       "        </tr>\n",
       "    </tbody>\n",
       "        <tr>\n",
       "            <td>['Levitate']                               </td> <td>70    </td> <td>600       </td> <td>3           </td> <td>Lunar Pokémon      </td> <td>120    </td> <td>1.5     </td> <td>120 </td> <td>Cresselia</td> <td>0              </td> <td>488           </td> <td>75       </td> <td>130       </td> <td>85   </td> <td>psychic </td> <td>nan    </td> <td>85.6     </td> <td>4         </td>\n",
       "        </tr>\n",
       "    </tbody>\n",
       "        <tr>\n",
       "            <td>['Prankster', 'Defiant', 'Regenerator']    </td> <td>100   </td> <td>580       </td> <td>3           </td> <td>Cyclone Pokémon    </td> <td>80     </td> <td>1.5     </td> <td>79  </td> <td>Tornadus </td> <td>100            </td> <td>641           </td> <td>110      </td> <td>90        </td> <td>121  </td> <td>flying  </td> <td>nan    </td> <td>63       </td> <td>5         </td>\n",
       "        </tr>\n",
       "    </tbody>\n",
       "        <tr>\n",
       "            <td>['Prankster', 'Defiant', 'Volt Absorb']    </td> <td>105   </td> <td>580       </td> <td>3           </td> <td>Bolt Strike Pokémon</td> <td>70     </td> <td>1.5     </td> <td>79  </td> <td>Thundurus</td> <td>100            </td> <td>642           </td> <td>145      </td> <td>80        </td> <td>101  </td> <td>electric</td> <td>flying </td> <td>61       </td> <td>5         </td>\n",
       "        </tr>\n",
       "    </tbody>\n",
       "        <tr>\n",
       "            <td>['Sand Force', 'Sheer Force', 'Intimidate']</td> <td>145   </td> <td>600       </td> <td>3           </td> <td>Abundance Pokémon  </td> <td>90     </td> <td>1.5     </td> <td>89  </td> <td>Landorus </td> <td>100            </td> <td>645           </td> <td>105      </td> <td>80        </td> <td>91   </td> <td>ground  </td> <td>flying </td> <td>68       </td> <td>5         </td>\n",
       "        </tr>\n",
       "    </tbody>\n",
       "</table>"
      ],
      "text/plain": [
       "<IPython.core.display.HTML object>"
      ]
     },
     "metadata": {},
     "output_type": "display_data"
    }
   ],
   "source": [
    "legendary_pokemon = national_pokedex.where(\"is_legendary\", are.equal_to(1)).drop(\"is_legendary\")\n",
    "#Legendary pokemon with a gender\n",
    "legendary_pokemon.where(\"percentage_male\", are.above_or_equal_to(0)).show() "
   ]
  },
  {
   "cell_type": "code",
   "execution_count": 9,
   "metadata": {},
   "outputs": [
    {
     "data": {
      "text/html": [
       "<table border=\"1\" class=\"dataframe\">\n",
       "    <thead>\n",
       "        <tr>\n",
       "            <th>abilities</th> <th>attack</th> <th>base_total</th> <th>capture_rate</th> <th>classfication</th> <th>defense</th> <th>height_m</th> <th>hp</th> <th>name</th> <th>percentage_male</th> <th>pokedex_number</th> <th>sp_attack</th> <th>sp_defense</th> <th>speed</th> <th>type1</th> <th>type2</th> <th>weight_kg</th> <th>generation</th> <th>is_legendary</th> <th>BMI</th>\n",
       "        </tr>\n",
       "    </thead>\n",
       "    <tbody>\n",
       "        <tr>\n",
       "            <td>['Sturdy']                             </td> <td>29    </td> <td>400       </td> <td>45          </td> <td>Protostar Pokémon  </td> <td>131    </td> <td>0.1     </td> <td>43  </td> <td>Cosmoem  </td> <td>nan            </td> <td>790           </td> <td>29       </td> <td>131       </td> <td>37   </td> <td>psychic</td> <td>nan    </td> <td>999.9    </td> <td>7         </td> <td>1           </td> <td>9999   </td>\n",
       "        </tr>\n",
       "    </tbody>\n",
       "        <tr>\n",
       "            <td>['Own Tempo', 'Stamina', 'Inner Focus']</td> <td>125   </td> <td>500       </td> <td>60          </td> <td>Draft Horse Pokémon</td> <td>100    </td> <td>2.5     </td> <td>100 </td> <td>Mudsdale </td> <td>50             </td> <td>750           </td> <td>55       </td> <td>85        </td> <td>35   </td> <td>ground </td> <td>nan    </td> <td>920      </td> <td>7         </td> <td>0           </td> <td>368    </td>\n",
       "        </tr>\n",
       "    </tbody>\n",
       "        <tr>\n",
       "            <td>['Clear Body', 'Light Metal']          </td> <td>145   </td> <td>700       </td> <td>3           </td> <td>Iron Leg Pokémon   </td> <td>150    </td> <td>1.6     </td> <td>80  </td> <td>Metagross</td> <td>nan            </td> <td>376           </td> <td>105      </td> <td>110       </td> <td>110  </td> <td>steel  </td> <td>psychic</td> <td>550      </td> <td>3         </td> <td>0           </td> <td>343.75 </td>\n",
       "        </tr>\n",
       "    </tbody>\n",
       "        <tr>\n",
       "            <td>['Drought']                            </td> <td>180   </td> <td>770       </td> <td>3           </td> <td>Continent Pokémon  </td> <td>160    </td> <td>3.5     </td> <td>100 </td> <td>Groudon  </td> <td>nan            </td> <td>383           </td> <td>150      </td> <td>90        </td> <td>90   </td> <td>ground </td> <td>nan    </td> <td>950      </td> <td>3         </td> <td>1           </td> <td>271.429</td>\n",
       "        </tr>\n",
       "    </tbody>\n",
       "        <tr>\n",
       "            <td>['Flash Fire', 'Flame Body']           </td> <td>90    </td> <td>600       </td> <td>3           </td> <td>Lava Dome Pokémon  </td> <td>106    </td> <td>1.7     </td> <td>91  </td> <td>Heatran  </td> <td>50             </td> <td>485           </td> <td>130      </td> <td>106       </td> <td>77   </td> <td>fire   </td> <td>steel  </td> <td>430      </td> <td>4         </td> <td>1           </td> <td>252.941</td>\n",
       "        </tr>\n",
       "    </tbody>\n",
       "        <tr>\n",
       "            <td>['Own Tempo', 'Ice Body', 'Sturdy']    </td> <td>117   </td> <td>514       </td> <td>55          </td> <td>Iceberg Pokémon    </td> <td>184    </td> <td>2       </td> <td>95  </td> <td>Avalugg  </td> <td>50             </td> <td>713           </td> <td>44       </td> <td>46        </td> <td>28   </td> <td>ice    </td> <td>nan    </td> <td>505      </td> <td>6         </td> <td>0           </td> <td>252.5  </td>\n",
       "        </tr>\n",
       "    </tbody>\n",
       "        <tr>\n",
       "            <td>['Sturdy', 'Magnet Pull', 'Sand Force']</td> <td>55    </td> <td>525       </td> <td>60          </td> <td>Compass Pokémon    </td> <td>145    </td> <td>1.4     </td> <td>60  </td> <td>Probopass</td> <td>50             </td> <td>476           </td> <td>75       </td> <td>150       </td> <td>40   </td> <td>rock   </td> <td>steel  </td> <td>340      </td> <td>4         </td> <td>0           </td> <td>242.857</td>\n",
       "        </tr>\n",
       "    </tbody>\n",
       "        <tr>\n",
       "            <td>['Immunity', 'Thick Fat', 'Gluttony']  </td> <td>110   </td> <td>540       </td> <td>25          </td> <td>Sleeping Pokémon   </td> <td>65     </td> <td>2.1     </td> <td>160 </td> <td>Snorlax  </td> <td>88.1           </td> <td>143           </td> <td>65       </td> <td>110       </td> <td>30   </td> <td>normal </td> <td>nan    </td> <td>460      </td> <td>1         </td> <td>0           </td> <td>219.048</td>\n",
       "        </tr>\n",
       "    </tbody>\n",
       "        <tr>\n",
       "            <td>['Water Compaction', 'Sand Veil']      </td> <td>75    </td> <td>480       </td> <td>60          </td> <td>Sand Castle Pokémon</td> <td>110    </td> <td>1.3     </td> <td>85  </td> <td>Palossand</td> <td>50             </td> <td>770           </td> <td>100      </td> <td>75        </td> <td>35   </td> <td>ghost  </td> <td>ground </td> <td>250      </td> <td>7         </td> <td>0           </td> <td>192.308</td>\n",
       "        </tr>\n",
       "    </tbody>\n",
       "        <tr>\n",
       "            <td>['Pickup', 'Thick Fat', 'Gluttony']    </td> <td>85    </td> <td>390       </td> <td>50          </td> <td>Big Eater Pokémon  </td> <td>40     </td> <td>0.6     </td> <td>135 </td> <td>Munchlax </td> <td>88.1           </td> <td>446           </td> <td>40       </td> <td>85        </td> <td>5    </td> <td>normal </td> <td>nan    </td> <td>105      </td> <td>4         </td> <td>0           </td> <td>175    </td>\n",
       "        </tr>\n",
       "    </tbody>\n",
       "</table>\n",
       "<p>... (423 rows omitted)</p"
      ],
      "text/plain": [
       "abilities                               | attack | base_total | capture_rate | classfication       | defense | height_m | hp   | name      | percentage_male | pokedex_number | sp_attack | sp_defense | speed | type1   | type2   | weight_kg | generation | is_legendary | BMI\n",
       "['Sturdy']                              | 29     | 400        | 45           | Protostar Pokémon   | 131     | 0.1      | 43   | Cosmoem   | nan             | 790            | 29        | 131        | 37    | psychic | nan     | 999.9     | 7          | 1            | 9999\n",
       "['Own Tempo', 'Stamina', 'Inner Focus'] | 125    | 500        | 60           | Draft Horse Pokémon | 100     | 2.5      | 100  | Mudsdale  | 50              | 750            | 55        | 85         | 35    | ground  | nan     | 920       | 7          | 0            | 368\n",
       "['Clear Body', 'Light Metal']           | 145    | 700        | 3            | Iron Leg Pokémon    | 150     | 1.6      | 80   | Metagross | nan             | 376            | 105       | 110        | 110   | steel   | psychic | 550       | 3          | 0            | 343.75\n",
       "['Drought']                             | 180    | 770        | 3            | Continent Pokémon   | 160     | 3.5      | 100  | Groudon   | nan             | 383            | 150       | 90         | 90    | ground  | nan     | 950       | 3          | 1            | 271.429\n",
       "['Flash Fire', 'Flame Body']            | 90     | 600        | 3            | Lava Dome Pokémon   | 106     | 1.7      | 91   | Heatran   | 50              | 485            | 130       | 106        | 77    | fire    | steel   | 430       | 4          | 1            | 252.941\n",
       "['Own Tempo', 'Ice Body', 'Sturdy']     | 117    | 514        | 55           | Iceberg Pokémon     | 184     | 2        | 95   | Avalugg   | 50              | 713            | 44        | 46         | 28    | ice     | nan     | 505       | 6          | 0            | 252.5\n",
       "['Sturdy', 'Magnet Pull', 'Sand Force'] | 55     | 525        | 60           | Compass Pokémon     | 145     | 1.4      | 60   | Probopass | 50              | 476            | 75        | 150        | 40    | rock    | steel   | 340       | 4          | 0            | 242.857\n",
       "['Immunity', 'Thick Fat', 'Gluttony']   | 110    | 540        | 25           | Sleeping Pokémon    | 65      | 2.1      | 160  | Snorlax   | 88.1            | 143            | 65        | 110        | 30    | normal  | nan     | 460       | 1          | 0            | 219.048\n",
       "['Water Compaction', 'Sand Veil']       | 75     | 480        | 60           | Sand Castle Pokémon | 110     | 1.3      | 85   | Palossand | 50              | 770            | 100       | 75         | 35    | ghost   | ground  | 250       | 7          | 0            | 192.308\n",
       "['Pickup', 'Thick Fat', 'Gluttony']     | 85     | 390        | 50           | Big Eater Pokémon   | 40      | 0.6      | 135  | Munchlax  | 88.1            | 446            | 40        | 85         | 5     | normal  | nan     | 105       | 4          | 0            | 175\n",
       "... (423 rows omitted)"
      ]
     },
     "execution_count": 9,
     "metadata": {},
     "output_type": "execute_result"
    }
   ],
   "source": [
    "overweight_pokemon = national_pokedex.with_column(\"BMI\", \n",
    "    national_pokedex.column(\"weight_kg\")/national_pokedex.column(\"height_m\")).where(\"BMI\", are.above_or_equal_to(25))\n",
    "np.round(overweight_pokemon.column(\"BMI\"),2)\n",
    "overweight_pokemon.sort(\"BMI\",descending = True)"
   ]
  },
  {
   "cell_type": "code",
   "execution_count": 10,
   "metadata": {},
   "outputs": [
    {
     "data": {
      "text/plain": [
       "54.06"
      ]
     },
     "execution_count": 10,
     "metadata": {},
     "output_type": "execute_result"
    }
   ],
   "source": [
    "#What percentage of pokemon are overweight?\n",
    "round(overweight_pokemon.num_rows/national_pokedex.num_rows*100,2)"
   ]
  },
  {
   "cell_type": "code",
   "execution_count": 11,
   "metadata": {},
   "outputs": [
    {
     "data": {
      "text/plain": [
       "14.5"
      ]
     },
     "execution_count": 11,
     "metadata": {},
     "output_type": "execute_result"
    }
   ],
   "source": [
    "max(national_pokedex.column(\"height_m\"))"
   ]
  },
  {
   "cell_type": "code",
   "execution_count": 15,
   "metadata": {},
   "outputs": [
    {
     "data": {
      "text/html": [
       "<table border=\"1\" class=\"dataframe\">\n",
       "    <thead>\n",
       "        <tr>\n",
       "            <th>abilities</th> <th>attack</th> <th>base_total</th> <th>capture_rate</th> <th>classfication</th> <th>defense</th> <th>height_m</th> <th>hp</th> <th>name</th> <th>percentage_male</th> <th>pokedex_number</th> <th>sp_attack</th> <th>sp_defense</th> <th>speed</th> <th>type1</th> <th>type2</th> <th>weight_kg</th> <th>generation</th> <th>is_legendary</th>\n",
       "        </tr>\n",
       "    </thead>\n",
       "    <tbody>\n",
       "        <tr>\n",
       "            <td>['Water Veil', 'Oblivious', 'Pressure']      </td> <td>90    </td> <td>500       </td> <td>60          </td> <td>Float Whale Pokémon</td> <td>45     </td> <td>14.5    </td> <td>170 </td> <td>Wailord   </td> <td>50             </td> <td>321           </td> <td>90       </td> <td>45        </td> <td>60   </td> <td>water </td> <td>nan   </td> <td>398      </td> <td>3         </td> <td>0           </td>\n",
       "        </tr>\n",
       "    </tbody>\n",
       "        <tr>\n",
       "            <td>['Beast Boost']                              </td> <td>101   </td> <td>570       </td> <td>25          </td> <td>Launch Pokémon     </td> <td>103    </td> <td>9.2     </td> <td>97  </td> <td>Celesteela</td> <td>nan            </td> <td>797           </td> <td>107      </td> <td>101       </td> <td>61   </td> <td>steel </td> <td>flying</td> <td>999.9    </td> <td>7         </td> <td>1           </td>\n",
       "        </tr>\n",
       "    </tbody>\n",
       "        <tr>\n",
       "            <td>['Rock Head', 'Sturdy', 'Sheer Force']       </td> <td>125   </td> <td>610       </td> <td>25          </td> <td>Iron Snake Pokémon </td> <td>230    </td> <td>9.2     </td> <td>75  </td> <td>Steelix   </td> <td>50             </td> <td>208           </td> <td>55       </td> <td>95        </td> <td>30   </td> <td>steel </td> <td>ground</td> <td>400      </td> <td>2         </td> <td>0           </td>\n",
       "        </tr>\n",
       "    </tbody>\n",
       "        <tr>\n",
       "            <td>['Rock Head', 'Sturdy', 'Weak Armor']        </td> <td>45    </td> <td>385       </td> <td>45          </td> <td>Rock Snake Pokémon </td> <td>160    </td> <td>8.8     </td> <td>35  </td> <td>Onix      </td> <td>50             </td> <td>95            </td> <td>30       </td> <td>45        </td> <td>70   </td> <td>rock  </td> <td>ground</td> <td>210      </td> <td>1         </td> <td>0           </td>\n",
       "        </tr>\n",
       "    </tbody>\n",
       "        <tr>\n",
       "            <td>['Air Lock']                                 </td> <td>180   </td> <td>780       </td> <td>45          </td> <td>Sky High Pokémon   </td> <td>100    </td> <td>7       </td> <td>105 </td> <td>Rayquaza  </td> <td>nan            </td> <td>384           </td> <td>180      </td> <td>100       </td> <td>115  </td> <td>dragon</td> <td>flying</td> <td>206.5    </td> <td>3         </td> <td>1           </td>\n",
       "        </tr>\n",
       "    </tbody>\n",
       "        <tr>\n",
       "            <td>['Intimidate', 'Moxie']                      </td> <td>155   </td> <td>640       </td> <td>45          </td> <td>Atrocious Pokémon  </td> <td>109    </td> <td>6.5     </td> <td>95  </td> <td>Gyarados  </td> <td>50             </td> <td>130           </td> <td>70       </td> <td>130       </td> <td>81   </td> <td>water </td> <td>flying</td> <td>235      </td> <td>1         </td> <td>0           </td>\n",
       "        </tr>\n",
       "    </tbody>\n",
       "        <tr>\n",
       "            <td>['Marvel Scale', 'Competitive', 'Cute Charm']</td> <td>60    </td> <td>540       </td> <td>60          </td> <td>Tender Pokémon     </td> <td>79     </td> <td>6.2     </td> <td>95  </td> <td>Milotic   </td> <td>50             </td> <td>350           </td> <td>100      </td> <td>125       </td> <td>81   </td> <td>water </td> <td>nan   </td> <td>162      </td> <td>3         </td> <td>0           </td>\n",
       "        </tr>\n",
       "    </tbody>\n",
       "        <tr>\n",
       "            <td>['Dark Aura']                                </td> <td>131   </td> <td>680       </td> <td>45          </td> <td>Destruction Pokémon</td> <td>95     </td> <td>5.8     </td> <td>126 </td> <td>Yveltal   </td> <td>nan            </td> <td>717           </td> <td>131      </td> <td>98        </td> <td>99   </td> <td>dark  </td> <td>flying</td> <td>203      </td> <td>6         </td> <td>1           </td>\n",
       "        </tr>\n",
       "    </tbody>\n",
       "        <tr>\n",
       "            <td>['Beast Boost']                              </td> <td>101   </td> <td>570       </td> <td>15          </td> <td>Junkivore Pokémon  </td> <td>53     </td> <td>5.5     </td> <td>223 </td> <td>Guzzlord  </td> <td>nan            </td> <td>799           </td> <td>97       </td> <td>53        </td> <td>43   </td> <td>dark  </td> <td>dragon</td> <td>888      </td> <td>7         </td> <td>1           </td>\n",
       "        </tr>\n",
       "    </tbody>\n",
       "        <tr>\n",
       "            <td>['Pressure', 'Telepathy']                    </td> <td>120   </td> <td>680       </td> <td>3           </td> <td>Temporal Pokémon   </td> <td>120    </td> <td>5.4     </td> <td>100 </td> <td>Dialga    </td> <td>nan            </td> <td>483           </td> <td>150      </td> <td>100       </td> <td>90   </td> <td>steel </td> <td>dragon</td> <td>683      </td> <td>4         </td> <td>1           </td>\n",
       "        </tr>\n",
       "    </tbody>\n",
       "</table>\n",
       "<p>... (771 rows omitted)</p"
      ],
      "text/plain": [
       "abilities                                     | attack | base_total | capture_rate | classfication       | defense | height_m | hp   | name       | percentage_male | pokedex_number | sp_attack | sp_defense | speed | type1  | type2  | weight_kg | generation | is_legendary\n",
       "['Water Veil', 'Oblivious', 'Pressure']       | 90     | 500        | 60           | Float Whale Pokémon | 45      | 14.5     | 170  | Wailord    | 50              | 321            | 90        | 45         | 60    | water  | nan    | 398       | 3          | 0\n",
       "['Beast Boost']                               | 101    | 570        | 25           | Launch Pokémon      | 103     | 9.2      | 97   | Celesteela | nan             | 797            | 107       | 101        | 61    | steel  | flying | 999.9     | 7          | 1\n",
       "['Rock Head', 'Sturdy', 'Sheer Force']        | 125    | 610        | 25           | Iron Snake Pokémon  | 230     | 9.2      | 75   | Steelix    | 50              | 208            | 55        | 95         | 30    | steel  | ground | 400       | 2          | 0\n",
       "['Rock Head', 'Sturdy', 'Weak Armor']         | 45     | 385        | 45           | Rock Snake Pokémon  | 160     | 8.8      | 35   | Onix       | 50              | 95             | 30        | 45         | 70    | rock   | ground | 210       | 1          | 0\n",
       "['Air Lock']                                  | 180    | 780        | 45           | Sky High Pokémon    | 100     | 7        | 105  | Rayquaza   | nan             | 384            | 180       | 100        | 115   | dragon | flying | 206.5     | 3          | 1\n",
       "['Intimidate', 'Moxie']                       | 155    | 640        | 45           | Atrocious Pokémon   | 109     | 6.5      | 95   | Gyarados   | 50              | 130            | 70        | 130        | 81    | water  | flying | 235       | 1          | 0\n",
       "['Marvel Scale', 'Competitive', 'Cute Charm'] | 60     | 540        | 60           | Tender Pokémon      | 79      | 6.2      | 95   | Milotic    | 50              | 350            | 100       | 125        | 81    | water  | nan    | 162       | 3          | 0\n",
       "['Dark Aura']                                 | 131    | 680        | 45           | Destruction Pokémon | 95      | 5.8      | 126  | Yveltal    | nan             | 717            | 131       | 98         | 99    | dark   | flying | 203       | 6          | 1\n",
       "['Beast Boost']                               | 101    | 570        | 15           | Junkivore Pokémon   | 53      | 5.5      | 223  | Guzzlord   | nan             | 799            | 97        | 53         | 43    | dark   | dragon | 888       | 7          | 1\n",
       "['Pressure', 'Telepathy']                     | 120    | 680        | 3            | Temporal Pokémon    | 120     | 5.4      | 100  | Dialga     | nan             | 483            | 150       | 100        | 90    | steel  | dragon | 683       | 4          | 1\n",
       "... (771 rows omitted)"
      ]
     },
     "execution_count": 15,
     "metadata": {},
     "output_type": "execute_result"
    }
   ],
   "source": [
    "national_pokedex.sort(\"height_m\",descending=True).where(\"height_m\",are.above_or_equal_to(0)) #exclude \"nan\" heights"
   ]
  },
  {
   "cell_type": "code",
   "execution_count": 46,
   "metadata": {},
   "outputs": [],
   "source": [
    "#Has there been a power creep over generations?\n",
    "bst_overall = []\n",
    "for gen in np.arange(1,8):\n",
    "    bst_overall.append(np.mean(national_pokedex.where(\"generation\", gen).column(\"base_total\")))"
   ]
  },
  {
   "cell_type": "code",
   "execution_count": 49,
   "metadata": {},
   "outputs": [],
   "source": [
    "bstByGen = Table().with_column(\"Generation\", np.arange(1,8),\"BST\", bst_overall)"
   ]
  },
  {
   "cell_type": "code",
   "execution_count": 53,
   "metadata": {},
   "outputs": [
    {
     "data": {
      "text/html": [
       "<table border=\"1\" class=\"dataframe\">\n",
       "    <thead>\n",
       "        <tr>\n",
       "            <th>Generation</th> <th>BST</th>\n",
       "        </tr>\n",
       "    </thead>\n",
       "    <tbody>\n",
       "        <tr>\n",
       "            <td>4         </td> <td>451.178</td>\n",
       "        </tr>\n",
       "    </tbody>\n",
       "        <tr>\n",
       "            <td>7         </td> <td>448.163</td>\n",
       "        </tr>\n",
       "    </tbody>\n",
       "        <tr>\n",
       "            <td>6         </td> <td>437.611</td>\n",
       "        </tr>\n",
       "    </tbody>\n",
       "        <tr>\n",
       "            <td>5         </td> <td>427.038</td>\n",
       "        </tr>\n",
       "    </tbody>\n",
       "        <tr>\n",
       "            <td>3         </td> <td>420.022</td>\n",
       "        </tr>\n",
       "    </tbody>\n",
       "        <tr>\n",
       "            <td>1         </td> <td>416.252</td>\n",
       "        </tr>\n",
       "    </tbody>\n",
       "        <tr>\n",
       "            <td>2         </td> <td>413.18 </td>\n",
       "        </tr>\n",
       "    </tbody>\n",
       "</table>"
      ],
      "text/plain": [
       "Generation | BST\n",
       "4          | 451.178\n",
       "7          | 448.163\n",
       "6          | 437.611\n",
       "5          | 427.038\n",
       "3          | 420.022\n",
       "1          | 416.252\n",
       "2          | 413.18"
      ]
     },
     "execution_count": 53,
     "metadata": {},
     "output_type": "execute_result"
    }
   ],
   "source": [
    "bstByGen.sort(\"BST\", descending = True) #Sinnoh as highest overall BST average! Possible future exploration: Look at top ~15"
   ]
  },
  {
   "cell_type": "code",
   "execution_count": 54,
   "metadata": {},
   "outputs": [
    {
     "data": {
      "image/png": "[encoded data removed]",
      "text/plain": [
       "<matplotlib.figure.Figure at 0x19cd213e400>"
      ]
     },
     "metadata": {},
     "output_type": "display_data"
    }
   ],
   "source": [
    "bstByGen.scatter(\"Generation\",\"BST\")"
   ]
  },
  {
   "cell_type": "code",
   "execution_count": 61,
   "metadata": {},
   "outputs": [
    {
     "data": {
      "text/html": [
       "<table border=\"1\" class=\"dataframe\">\n",
       "    <thead>\n",
       "        <tr>\n",
       "            <th>abilities</th> <th>attack</th> <th>base_total</th> <th>capture_rate</th> <th>classfication</th> <th>defense</th> <th>height_m</th> <th>hp</th> <th>name</th> <th>percentage_male</th> <th>pokedex_number</th> <th>sp_attack</th> <th>sp_defense</th> <th>speed</th> <th>type1</th> <th>type2</th> <th>weight_kg</th> <th>generation</th> <th>is_legendary</th>\n",
       "        </tr>\n",
       "    </thead>\n",
       "    <tbody>\n",
       "        <tr>\n",
       "            <td>['Sand Veil', 'Rough Skin']           </td> <td>170   </td> <td>700       </td> <td>45          </td> <td>Mach Pokémon      </td> <td>115    </td> <td>1.9     </td> <td>108 </td> <td>Garchomp </td> <td>50             </td> <td>445           </td> <td>120      </td> <td>95        </td> <td>92   </td> <td>dragon</td> <td>ground </td> <td>95       </td> <td>4         </td> <td>0           </td>\n",
       "        </tr>\n",
       "    </tbody>\n",
       "        <tr>\n",
       "            <td>['Clear Body', 'Light Metal']         </td> <td>145   </td> <td>700       </td> <td>3           </td> <td>Iron Leg Pokémon  </td> <td>150    </td> <td>1.6     </td> <td>80  </td> <td>Metagross</td> <td>nan            </td> <td>376           </td> <td>105      </td> <td>110       </td> <td>110  </td> <td>steel </td> <td>psychic</td> <td>550      </td> <td>3         </td> <td>0           </td>\n",
       "        </tr>\n",
       "    </tbody>\n",
       "        <tr>\n",
       "            <td>['Intimidate', 'Moxie']               </td> <td>145   </td> <td>700       </td> <td>45          </td> <td>Dragon Pokémon    </td> <td>130    </td> <td>1.5     </td> <td>95  </td> <td>Salamence</td> <td>50             </td> <td>373           </td> <td>120      </td> <td>90        </td> <td>120  </td> <td>dragon</td> <td>flying </td> <td>102.6    </td> <td>3         </td> <td>0           </td>\n",
       "        </tr>\n",
       "    </tbody>\n",
       "        <tr>\n",
       "            <td>['Sand Stream', 'Unnerve']            </td> <td>164   </td> <td>700       </td> <td>45          </td> <td>Armor Pokémon     </td> <td>150    </td> <td>2       </td> <td>100 </td> <td>Tyranitar</td> <td>50             </td> <td>248           </td> <td>95       </td> <td>120       </td> <td>71   </td> <td>rock  </td> <td>dark   </td> <td>202      </td> <td>2         </td> <td>0           </td>\n",
       "        </tr>\n",
       "    </tbody>\n",
       "        <tr>\n",
       "            <td>['Truant']                            </td> <td>160   </td> <td>670       </td> <td>45          </td> <td>Lazy Pokémon      </td> <td>100    </td> <td>2       </td> <td>150 </td> <td>Slaking  </td> <td>50             </td> <td>289           </td> <td>95       </td> <td>65        </td> <td>100  </td> <td>normal</td> <td>nan    </td> <td>130.5    </td> <td>3         </td> <td>0           </td>\n",
       "        </tr>\n",
       "    </tbody>\n",
       "        <tr>\n",
       "            <td>['Torrent', 'Protean', 'Battle Bond'] </td> <td>145   </td> <td>640       </td> <td>45          </td> <td>Ninja Pokémon     </td> <td>67     </td> <td>1.5     </td> <td>72  </td> <td>Greninja </td> <td>88.1           </td> <td>658           </td> <td>153      </td> <td>71        </td> <td>132  </td> <td>water </td> <td>dark   </td> <td>40       </td> <td>6         </td> <td>0           </td>\n",
       "        </tr>\n",
       "    </tbody>\n",
       "        <tr>\n",
       "            <td>['Intimidate', 'Moxie']               </td> <td>155   </td> <td>640       </td> <td>45          </td> <td>Atrocious Pokémon </td> <td>109    </td> <td>6.5     </td> <td>95  </td> <td>Gyarados </td> <td>50             </td> <td>130           </td> <td>70       </td> <td>130       </td> <td>81   </td> <td>water </td> <td>flying </td> <td>235      </td> <td>1         </td> <td>0           </td>\n",
       "        </tr>\n",
       "    </tbody>\n",
       "        <tr>\n",
       "            <td>['Torrent', 'Damp']                   </td> <td>150   </td> <td>635       </td> <td>45          </td> <td>Mud Fish Pokémon  </td> <td>110    </td> <td>1.5     </td> <td>100 </td> <td>Swampert </td> <td>88.1           </td> <td>260           </td> <td>95       </td> <td>110       </td> <td>70   </td> <td>water </td> <td>ground </td> <td>81.9     </td> <td>3         </td> <td>0           </td>\n",
       "        </tr>\n",
       "    </tbody>\n",
       "        <tr>\n",
       "            <td>['Blaze', 'Solar Power']              </td> <td>104   </td> <td>634       </td> <td>45          </td> <td>Flame Pokémon     </td> <td>78     </td> <td>1.7     </td> <td>78  </td> <td>Charizard</td> <td>88.1           </td> <td>6             </td> <td>159      </td> <td>115       </td> <td>100  </td> <td>fire  </td> <td>flying </td> <td>90.5     </td> <td>1         </td> <td>0           </td>\n",
       "        </tr>\n",
       "    </tbody>\n",
       "        <tr>\n",
       "            <td>['Sturdy', 'Rock Head', 'Heavy Metal']</td> <td>140   </td> <td>630       </td> <td>45          </td> <td>Iron Armor Pokémon</td> <td>230    </td> <td>2.1     </td> <td>70  </td> <td>Aggron   </td> <td>50             </td> <td>306           </td> <td>60       </td> <td>80        </td> <td>50   </td> <td>steel </td> <td>rock   </td> <td>360      </td> <td>3         </td> <td>0           </td>\n",
       "        </tr>\n",
       "    </tbody>\n",
       "</table>\n",
       "<p>... (21 rows omitted)</p"
      ],
      "text/plain": [
       "abilities                              | attack | base_total | capture_rate | classfication      | defense | height_m | hp   | name      | percentage_male | pokedex_number | sp_attack | sp_defense | speed | type1  | type2   | weight_kg | generation | is_legendary\n",
       "['Sand Veil', 'Rough Skin']            | 170    | 700        | 45           | Mach Pokémon       | 115     | 1.9      | 108  | Garchomp  | 50              | 445            | 120       | 95         | 92    | dragon | ground  | 95        | 4          | 0\n",
       "['Clear Body', 'Light Metal']          | 145    | 700        | 3            | Iron Leg Pokémon   | 150     | 1.6      | 80   | Metagross | nan             | 376            | 105       | 110        | 110   | steel  | psychic | 550       | 3          | 0\n",
       "['Intimidate', 'Moxie']                | 145    | 700        | 45           | Dragon Pokémon     | 130     | 1.5      | 95   | Salamence | 50              | 373            | 120       | 90         | 120   | dragon | flying  | 102.6     | 3          | 0\n",
       "['Sand Stream', 'Unnerve']             | 164    | 700        | 45           | Armor Pokémon      | 150     | 2        | 100  | Tyranitar | 50              | 248            | 95        | 120        | 71    | rock   | dark    | 202       | 2          | 0\n",
       "['Truant']                             | 160    | 670        | 45           | Lazy Pokémon       | 100     | 2        | 150  | Slaking   | 50              | 289            | 95        | 65         | 100   | normal | nan     | 130.5     | 3          | 0\n",
       "['Torrent', 'Protean', 'Battle Bond']  | 145    | 640        | 45           | Ninja Pokémon      | 67      | 1.5      | 72   | Greninja  | 88.1            | 658            | 153       | 71         | 132   | water  | dark    | 40        | 6          | 0\n",
       "['Intimidate', 'Moxie']                | 155    | 640        | 45           | Atrocious Pokémon  | 109     | 6.5      | 95   | Gyarados  | 50              | 130            | 70        | 130        | 81    | water  | flying  | 235       | 1          | 0\n",
       "['Torrent', 'Damp']                    | 150    | 635        | 45           | Mud Fish Pokémon   | 110     | 1.5      | 100  | Swampert  | 88.1            | 260            | 95        | 110        | 70    | water  | ground  | 81.9      | 3          | 0\n",
       "['Blaze', 'Solar Power']               | 104    | 634        | 45           | Flame Pokémon      | 78      | 1.7      | 78   | Charizard | 88.1            | 6              | 159       | 115        | 100   | fire   | flying  | 90.5      | 1          | 0\n",
       "['Sturdy', 'Rock Head', 'Heavy Metal'] | 140    | 630        | 45           | Iron Armor Pokémon | 230     | 2.1      | 70   | Aggron    | 50              | 306            | 60        | 80         | 50    | steel  | rock    | 360       | 3          | 0\n",
       "... (21 rows omitted)"
      ]
     },
     "execution_count": 61,
     "metadata": {},
     "output_type": "execute_result"
    }
   ],
   "source": [
    "pseudo_legendaries = national_pokedex.where(\"is_legendary\",are.not_equal_to(1)).where(\"base_total\",are.above_or_equal_to(600))\n",
    "pseudo_legendaries.sort(\"base_total\", descending = True)"
   ]
  },
  {
   "cell_type": "code",
   "execution_count": 65,
   "metadata": {},
   "outputs": [
    {
     "data": {
      "image/png": "[encoded data removed]",
      "text/plain": [
       "<matplotlib.figure.Figure at 0x19cd337b438>"
      ]
     },
     "metadata": {},
     "output_type": "display_data"
    }
   ],
   "source": [
    "national_pokedex.scatter(\"pokedex_number\",\"base_total\") #Absolutely zero correlation LOL"
   ]
  },
  {
   "cell_type": "code",
   "execution_count": 68,
   "metadata": {},
   "outputs": [
    {
     "data": {
      "text/html": [
       "<table border=\"1\" class=\"dataframe\">\n",
       "    <thead>\n",
       "        <tr>\n",
       "            <th>abilities</th> <th>attack</th> <th>base_total</th> <th>capture_rate</th> <th>classfication</th> <th>defense</th> <th>height_m</th> <th>hp</th> <th>name</th> <th>percentage_male</th> <th>pokedex_number</th> <th>sp_attack</th> <th>sp_defense</th> <th>speed</th> <th>type1</th> <th>type2</th> <th>weight_kg</th> <th>generation</th> <th>is_legendary</th>\n",
       "        </tr>\n",
       "    </thead>\n",
       "    <tbody>\n",
       "        <tr>\n",
       "            <td>['Sand Veil', 'Rough Skin']              </td> <td>170   </td> <td>700       </td> <td>45          </td> <td>Mach Pokémon </td> <td>115    </td> <td>1.9     </td> <td>108 </td> <td>Garchomp</td> <td>50             </td> <td>445           </td> <td>120      </td> <td>95        </td> <td>92   </td> <td>dragon  </td> <td>ground  </td> <td>95       </td> <td>4         </td> <td>0           </td>\n",
       "        </tr>\n",
       "    </tbody>\n",
       "        <tr>\n",
       "            <td>['Steadfast', 'Inner Focus', 'Justified']</td> <td>145   </td> <td>625       </td> <td>45          </td> <td>Aura Pokémon </td> <td>88     </td> <td>1.2     </td> <td>70  </td> <td>Lucario </td> <td>88.1           </td> <td>448           </td> <td>140      </td> <td>70        </td> <td>112  </td> <td>fighting</td> <td>steel   </td> <td>54       </td> <td>4         </td> <td>0           </td>\n",
       "        </tr>\n",
       "    </tbody>\n",
       "        <tr>\n",
       "            <td>['Steadfast', 'Justified']               </td> <td>165   </td> <td>618       </td> <td>45          </td> <td>Blade Pokémon</td> <td>95     </td> <td>1.6     </td> <td>68  </td> <td>Gallade </td> <td>100            </td> <td>475           </td> <td>65       </td> <td>115       </td> <td>110  </td> <td>psychic </td> <td>fighting</td> <td>52       </td> <td>4         </td> <td>0           </td>\n",
       "        </tr>\n",
       "    </tbody>\n",
       "</table>"
      ],
      "text/plain": [
       "abilities                                 | attack | base_total | capture_rate | classfication | defense | height_m | hp   | name     | percentage_male | pokedex_number | sp_attack | sp_defense | speed | type1    | type2    | weight_kg | generation | is_legendary\n",
       "['Sand Veil', 'Rough Skin']               | 170    | 700        | 45           | Mach Pokémon  | 115     | 1.9      | 108  | Garchomp | 50              | 445            | 120       | 95         | 92    | dragon   | ground   | 95        | 4          | 0\n",
       "['Steadfast', 'Inner Focus', 'Justified'] | 145    | 625        | 45           | Aura Pokémon  | 88      | 1.2      | 70   | Lucario  | 88.1            | 448            | 140       | 70         | 112   | fighting | steel    | 54        | 4          | 0\n",
       "['Steadfast', 'Justified']                | 165    | 618        | 45           | Blade Pokémon | 95      | 1.6      | 68   | Gallade  | 100             | 475            | 65        | 115        | 110   | psychic  | fighting | 52        | 4          | 0"
      ]
     },
     "execution_count": 68,
     "metadata": {},
     "output_type": "execute_result"
    }
   ],
   "source": [
    "pseudo_legendaries.where(\"generation\", 4)"
   ]
  },
  {
   "cell_type": "code",
   "execution_count": 76,
   "metadata": {},
   "outputs": [
    {
     "data": {
      "image/png": "[encoded data removed]",
      "text/plain": [
       "<matplotlib.figure.Figure at 0x19cd3512b38>"
      ]
     },
     "metadata": {},
     "output_type": "display_data"
    }
   ],
   "source": [
    "national_pokedex.hist(\"base_total\")"
   ]
  }
 ],
 "metadata": {
  "kernelspec": {
   "display_name": "Python 3",
   "language": "python",
   "name": "python3"
  },
  "language_info": {
   "codemirror_mode": {
    "name": "ipython",
    "version": 3
   },
   "file_extension": ".py",
   "mimetype": "text/x-python",
   "name": "python",
   "nbconvert_exporter": "python",
   "pygments_lexer": "ipython3",
   "version": "3.6.1"
  }
 },
 "nbformat": 4,
 "nbformat_minor": 2
}
