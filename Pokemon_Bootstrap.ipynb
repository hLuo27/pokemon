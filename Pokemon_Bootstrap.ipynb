{
 "cells": [
  {
   "cell_type": "markdown",
   "metadata": {},
   "source": [
    "## Bootstrap Resampling Pokemon\n",
    "\n",
    "Applying bootstrap resampling to the base stats of pokemon in  the National Pokedex"
   ]
  },
  {
   "cell_type": "code",
   "execution_count": 1,
   "metadata": {
    "collapsed": true
   },
   "outputs": [],
   "source": [
    "from datascience import *\n",
    "import numpy as np\n",
    "import matplotlib\n",
    "matplotlib.use('Agg', warn=False)\n",
    "%matplotlib inline\n",
    "import matplotlib.pyplot as plots\n",
    "plots.style.use('fivethirtyeight')"
   ]
  },
  {
   "cell_type": "markdown",
   "metadata": {},
   "source": [
    "### Part 1. Cleaning Data"
   ]
  },
  {
   "cell_type": "code",
   "execution_count": 2,
   "metadata": {},
   "outputs": [
    {
     "data": {
      "text/html": [
       "<table border=\"1\" class=\"dataframe\">\n",
       "    <thead>\n",
       "        <tr>\n",
       "            <th>base_total</th> <th>name</th> <th>generation</th>\n",
       "        </tr>\n",
       "    </thead>\n",
       "    <tbody>\n",
       "        <tr>\n",
       "            <td>780       </td> <td>Rayquaza</td> <td>3         </td>\n",
       "        </tr>\n",
       "    </tbody>\n",
       "        <tr>\n",
       "            <td>780       </td> <td>Mewtwo  </td> <td>1         </td>\n",
       "        </tr>\n",
       "    </tbody>\n",
       "        <tr>\n",
       "            <td>770       </td> <td>Groudon </td> <td>3         </td>\n",
       "        </tr>\n",
       "    </tbody>\n",
       "        <tr>\n",
       "            <td>770       </td> <td>Kyogre  </td> <td>3         </td>\n",
       "        </tr>\n",
       "    </tbody>\n",
       "        <tr>\n",
       "            <td>720       </td> <td>Arceus  </td> <td>4         </td>\n",
       "        </tr>\n",
       "    </tbody>\n",
       "</table>\n",
       "<p>... (796 rows omitted)</p"
      ],
      "text/plain": [
       "<IPython.core.display.HTML object>"
      ]
     },
     "metadata": {},
     "output_type": "display_data"
    }
   ],
   "source": [
    "#Get all data from pokeon csv\n",
    "raw = Table.read_table('pokemon.csv')\n",
    "#Keep only relevant columns\n",
    "national_pokedex = raw.select(['base_total','name','generation'])\n",
    "national_pokedex.sort('base_total',descending = True).show(5)"
   ]
  },
  {
   "cell_type": "markdown",
   "metadata": {},
   "source": [
    "### Part 2. Population Data"
   ]
  },
  {
   "cell_type": "code",
   "execution_count": 3,
   "metadata": {},
   "outputs": [
    {
     "data": {
      "image/png": "[encoded data removed]",
      "text/plain": [
       "<matplotlib.figure.Figure at 0x2f5ec8116a0>"
      ]
     },
     "metadata": {},
     "output_type": "display_data"
    }
   ],
   "source": [
    "#Display population data in a histogram\n",
    "national_pokedex.hist(\"base_total\")"
   ]
  },
  {
   "cell_type": "code",
   "execution_count": 4,
   "metadata": {},
   "outputs": [
    {
     "data": {
      "text/plain": [
       "435"
      ]
     },
     "execution_count": 4,
     "metadata": {},
     "output_type": "execute_result"
    }
   ],
   "source": [
    "#Calculate 50th percentile (median) of the population\n",
    "pop_median = percentile(50,national_pokedex.column(\"base_total\"))\n",
    "pop_median"
   ]
  },
  {
   "cell_type": "markdown",
   "metadata": {},
   "source": [
    "### Part 3. Generating Random Sample"
   ]
  },
  {
   "cell_type": "code",
   "execution_count": 5,
   "metadata": {
    "collapsed": true
   },
   "outputs": [],
   "source": [
    "#Set sample size n to be 100 - allows us to easily change the sample size later if needed\n",
    "n = 100\n",
    "N = national_pokedex.num_rows #Population size "
   ]
  },
  {
   "cell_type": "code",
   "execution_count": 6,
   "metadata": {},
   "outputs": [
    {
     "data": {
      "text/html": [
       "<table border=\"1\" class=\"dataframe\">\n",
       "    <thead>\n",
       "        <tr>\n",
       "            <th>base_total</th> <th>name</th> <th>generation</th>\n",
       "        </tr>\n",
       "    </thead>\n",
       "    <tbody>\n",
       "        <tr>\n",
       "            <td>540       </td> <td>Electivire</td> <td>4         </td>\n",
       "        </tr>\n",
       "    </tbody>\n",
       "        <tr>\n",
       "            <td>565       </td> <td>Absol     </td> <td>3         </td>\n",
       "        </tr>\n",
       "    </tbody>\n",
       "        <tr>\n",
       "            <td>303       </td> <td>Yamask    </td> <td>5         </td>\n",
       "        </tr>\n",
       "    </tbody>\n",
       "        <tr>\n",
       "            <td>360       </td> <td>Spinda    </td> <td>3         </td>\n",
       "        </tr>\n",
       "    </tbody>\n",
       "        <tr>\n",
       "            <td>500       </td> <td>Clawitzer </td> <td>6         </td>\n",
       "        </tr>\n",
       "    </tbody>\n",
       "</table>\n",
       "<p>... (95 rows omitted)</p"
      ],
      "text/plain": [
       "<IPython.core.display.HTML object>"
      ]
     },
     "metadata": {},
     "output_type": "display_data"
    }
   ],
   "source": [
    "#Select simple random sample of size n without replacement so no pokemon will be selected twice\n",
    "srs_sample = national_pokedex.sample(n,with_replacement=False)\n",
    "srs_sample.show(5)"
   ]
  },
  {
   "cell_type": "code",
   "execution_count": 7,
   "metadata": {},
   "outputs": [
    {
     "data": {
      "text/plain": [
       "430"
      ]
     },
     "execution_count": 7,
     "metadata": {},
     "output_type": "execute_result"
    }
   ],
   "source": [
    "#Calculate 50th percentile (median) of the sample\n",
    "srs_median = percentile(50, srs_sample.column('base_total'))\n",
    "srs_median"
   ]
  },
  {
   "cell_type": "markdown",
   "metadata": {},
   "source": [
    "### Part 4. Applying Bootstrap Resampling"
   ]
  },
  {
   "cell_type": "code",
   "execution_count": 8,
   "metadata": {},
   "outputs": [
    {
     "data": {
      "text/html": [
       "<table border=\"1\" class=\"dataframe\">\n",
       "    <thead>\n",
       "        <tr>\n",
       "            <th>base_total</th> <th>name</th> <th>generation</th>\n",
       "        </tr>\n",
       "    </thead>\n",
       "    <tbody>\n",
       "        <tr>\n",
       "            <td>500       </td> <td>Wailord</td> <td>3         </td>\n",
       "        </tr>\n",
       "    </tbody>\n",
       "        <tr>\n",
       "            <td>198       </td> <td>Ralts  </td> <td>3         </td>\n",
       "        </tr>\n",
       "    </tbody>\n",
       "        <tr>\n",
       "            <td>385       </td> <td>Dustox </td> <td>3         </td>\n",
       "        </tr>\n",
       "    </tbody>\n",
       "        <tr>\n",
       "            <td>500       </td> <td>Minior </td> <td>7         </td>\n",
       "        </tr>\n",
       "    </tbody>\n",
       "        <tr>\n",
       "            <td>495       </td> <td>Toxapex</td> <td>7         </td>\n",
       "        </tr>\n",
       "    </tbody>\n",
       "</table>\n",
       "<p>... (95 rows omitted)</p"
      ],
      "text/plain": [
       "<IPython.core.display.HTML object>"
      ]
     },
     "metadata": {},
     "output_type": "display_data"
    }
   ],
   "source": [
    "#Example of one resample\n",
    "resample = srs_sample.sample()\n",
    "resample.show(5)"
   ]
  },
  {
   "cell_type": "code",
   "execution_count": 14,
   "metadata": {
    "collapsed": true
   },
   "outputs": [],
   "source": [
    "def bootstrap(num_samples):\n",
    "    #Generate random sample from population\n",
    "    srs_sample = national_pokedex.sample(n,with_replacement=False)\n",
    "    medians = make_array()\n",
    "    for i in range(num_samples):\n",
    "        resample = srs_sample.sample() #Sample with replacement so will not just be the srs_sample\n",
    "        resample_median = int(percentile(50,resample.column('base_total'))) #Find median and append to \n",
    "        medians = np.append(medians, resample_median)\n",
    "    return medians"
   ]
  },
  {
   "cell_type": "code",
   "execution_count": 17,
   "metadata": {},
   "outputs": [
    {
     "data": {
      "text/plain": [
       "<matplotlib.collections.PathCollection at 0x2f5f087a978>"
      ]
     },
     "execution_count": 17,
     "metadata": {},
     "output_type": "execute_result"
    },
    {
     "data": {
      "image/png": "[encoded data removed]",
      "text/plain": [
       "<matplotlib.figure.Figure at 0x2f5f077c320>"
      ]
     },
     "metadata": {},
     "output_type": "display_data"
    }
   ],
   "source": [
    "#Visualize data with red dot for population median\n",
    "medians = bootstrap(1000)\n",
    "resample_medians = Table().with_column('Bootstrap Sample Median',medians)\n",
    "resample_medians.hist()\n",
    "plots.scatter(pop_median, 0, color='red', s=50)"
   ]
  },
  {
   "cell_type": "markdown",
   "metadata": {},
   "source": [
    "### Part 5. Calculate 95% Confidence Intervals for each Sample"
   ]
  },
  {
   "cell_type": "code",
   "execution_count": 18,
   "metadata": {},
   "outputs": [
    {
     "data": {
      "text/plain": [
       "[420.0, 485.0]"
      ]
     },
     "execution_count": 18,
     "metadata": {},
     "output_type": "execute_result"
    }
   ],
   "source": [
    "left_bound = percentile(2.5,medians)\n",
    "right_bound = percentile(97.5,medians)\n",
    "[left_bound,right_bound]"
   ]
  },
  {
   "cell_type": "code",
   "execution_count": 19,
   "metadata": {},
   "outputs": [
    {
     "data": {
      "image/png": "[encoded data removed]",
      "text/plain": [
       "<matplotlib.figure.Figure at 0x2f5f194b7b8>"
      ]
     },
     "metadata": {},
     "output_type": "display_data"
    }
   ],
   "source": [
    "resample_medians.hist()\n",
    "plots.plot(make_array(left_bound, right_bound), make_array(0, 0), color='yellow', lw=5, zorder=1) #Add CI to plot\n",
    "plots.scatter(pop_median, 0, color='red', s=30);"
   ]
  },
  {
   "cell_type": "code",
   "execution_count": 20,
   "metadata": {
    "collapsed": true
   },
   "outputs": [],
   "source": [
    "#Generate 100 boostrap intervals\n",
    "left_ends = make_array()\n",
    "right_ends = make_array()\n",
    "for i in range(100):\n",
    "    resample = bootstrap(1000)\n",
    "    left_ends = np.append(left_ends, percentile(2.5,resample))\n",
    "    right_ends = np.append(right_ends, percentile(97.5,resample))"
   ]
  },
  {
   "cell_type": "code",
   "execution_count": 21,
   "metadata": {},
   "outputs": [
    {
     "data": {
      "text/plain": [
       "97"
      ]
     },
     "execution_count": 21,
     "metadata": {},
     "output_type": "execute_result"
    }
   ],
   "source": [
    "intervals = Table().with_column(\"Left End\",left_ends, \"Right End\", right_ends)\n",
    "intervals.where('Left End', are.below(pop_median)).where('Right End', are.above(pop_median)).num_rows"
   ]
  },
  {
   "cell_type": "code",
   "execution_count": 22,
   "metadata": {},
   "outputs": [
    {
     "data": {
      "image/png": "[encoded data removed]",
      "text/plain": [
       "<matplotlib.figure.Figure at 0x2f5f0733cc0>"
      ]
     },
     "metadata": {},
     "output_type": "display_data"
    }
   ],
   "source": [
    "replication_number = np.ndarray.astype(np.arange(1, 101), str)\n",
    "intervals2 = Table(replication_number).with_rows(make_array(left_ends, right_ends))\n",
    "\n",
    "plots.figure(figsize=(8,8))\n",
    "for i in np.arange(n):\n",
    "    ends = intervals2.column(i)\n",
    "    plots.plot(ends, make_array(i+1, i+1), color='gold')\n",
    "plots.plot(make_array(pop_median, pop_median), make_array(0, 100), color='red', lw=2)\n",
    "plots.xlabel('Median (dollars)')\n",
    "plots.ylabel('Replication')\n",
    "plots.title('Population Median and Intervals of Estimates');"
   ]
  }
 ],
 "metadata": {
  "kernelspec": {
   "display_name": "Python 3",
   "language": "python",
   "name": "python3"
  },
  "language_info": {
   "codemirror_mode": {
    "name": "ipython",
    "version": 3
   },
   "file_extension": ".py",
   "mimetype": "text/x-python",
   "name": "python",
   "nbconvert_exporter": "python",
   "pygments_lexer": "ipython3",
   "version": "3.6.1"
  }
 },
 "nbformat": 4,
 "nbformat_minor": 2
}
