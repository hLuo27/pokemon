{
 "cells": [
  {
   "cell_type": "markdown",
   "metadata": {},
   "source": [
    "## Sampling Pokemon\n",
    "\n",
    "Random sampling simulations with the National Pokedex"
   ]
  },
  {
   "cell_type": "code",
   "execution_count": 1,
   "metadata": {
    "collapsed": true
   },
   "outputs": [],
   "source": [
    "from datascience import *\n",
    "import numpy as np\n",
    "import matplotlib\n",
    "matplotlib.use('Agg', warn=False)\n",
    "%matplotlib inline\n",
    "import matplotlib.pyplot as plots\n",
    "plots.style.use('fivethirtyeight')"
   ]
  },
  {
   "cell_type": "code",
   "execution_count": 4,
   "metadata": {},
   "outputs": [
    {
     "data": {
      "text/html": [
       "<table border=\"1\" class=\"dataframe\">\n",
       "    <thead>\n",
       "        <tr>\n",
       "            <th>abilities</th> <th>attack</th> <th>base_total</th> <th>capture_rate</th> <th>classfication</th> <th>defense</th> <th>height_m</th> <th>hp</th> <th>name</th> <th>percentage_male</th> <th>pokedex_number</th> <th>sp_attack</th> <th>sp_defense</th> <th>speed</th> <th>type1</th> <th>type2</th> <th>weight_kg</th> <th>generation</th> <th>is_legendary</th>\n",
       "        </tr>\n",
       "    </thead>\n",
       "    <tbody>\n",
       "        <tr>\n",
       "            <td>['Overgrow', 'Chlorophyll']</td> <td>49    </td> <td>318       </td> <td>45          </td> <td>Seed Pokémon       </td> <td>49     </td> <td>0.7     </td> <td>45  </td> <td>Bulbasaur </td> <td>88.1           </td> <td>1             </td> <td>65       </td> <td>65        </td> <td>45   </td> <td>grass</td> <td>poison</td> <td>6.9      </td> <td>1         </td> <td>0           </td>\n",
       "        </tr>\n",
       "    </tbody>\n",
       "        <tr>\n",
       "            <td>['Overgrow', 'Chlorophyll']</td> <td>62    </td> <td>405       </td> <td>45          </td> <td>Seed Pokémon       </td> <td>63     </td> <td>1       </td> <td>60  </td> <td>Ivysaur   </td> <td>88.1           </td> <td>2             </td> <td>80       </td> <td>80        </td> <td>60   </td> <td>grass</td> <td>poison</td> <td>13       </td> <td>1         </td> <td>0           </td>\n",
       "        </tr>\n",
       "    </tbody>\n",
       "        <tr>\n",
       "            <td>['Overgrow', 'Chlorophyll']</td> <td>100   </td> <td>625       </td> <td>45          </td> <td>Seed Pokémon       </td> <td>123    </td> <td>2       </td> <td>80  </td> <td>Venusaur  </td> <td>88.1           </td> <td>3             </td> <td>122      </td> <td>120       </td> <td>80   </td> <td>grass</td> <td>poison</td> <td>100      </td> <td>1         </td> <td>0           </td>\n",
       "        </tr>\n",
       "    </tbody>\n",
       "        <tr>\n",
       "            <td>['Blaze', 'Solar Power']   </td> <td>52    </td> <td>309       </td> <td>45          </td> <td>Lizard Pokémon     </td> <td>43     </td> <td>0.6     </td> <td>39  </td> <td>Charmander</td> <td>88.1           </td> <td>4             </td> <td>60       </td> <td>50        </td> <td>65   </td> <td>fire </td> <td>nan   </td> <td>8.5      </td> <td>1         </td> <td>0           </td>\n",
       "        </tr>\n",
       "    </tbody>\n",
       "        <tr>\n",
       "            <td>['Blaze', 'Solar Power']   </td> <td>64    </td> <td>405       </td> <td>45          </td> <td>Flame Pokémon      </td> <td>58     </td> <td>1.1     </td> <td>58  </td> <td>Charmeleon</td> <td>88.1           </td> <td>5             </td> <td>80       </td> <td>65        </td> <td>80   </td> <td>fire </td> <td>nan   </td> <td>19       </td> <td>1         </td> <td>0           </td>\n",
       "        </tr>\n",
       "    </tbody>\n",
       "        <tr>\n",
       "            <td>['Blaze', 'Solar Power']   </td> <td>104   </td> <td>634       </td> <td>45          </td> <td>Flame Pokémon      </td> <td>78     </td> <td>1.7     </td> <td>78  </td> <td>Charizard </td> <td>88.1           </td> <td>6             </td> <td>159      </td> <td>115       </td> <td>100  </td> <td>fire </td> <td>flying</td> <td>90.5     </td> <td>1         </td> <td>0           </td>\n",
       "        </tr>\n",
       "    </tbody>\n",
       "        <tr>\n",
       "            <td>['Torrent', 'Rain Dish']   </td> <td>48    </td> <td>314       </td> <td>45          </td> <td>Tiny Turtle Pokémon</td> <td>65     </td> <td>0.5     </td> <td>44  </td> <td>Squirtle  </td> <td>88.1           </td> <td>7             </td> <td>50       </td> <td>64        </td> <td>43   </td> <td>water</td> <td>nan   </td> <td>9        </td> <td>1         </td> <td>0           </td>\n",
       "        </tr>\n",
       "    </tbody>\n",
       "        <tr>\n",
       "            <td>['Torrent', 'Rain Dish']   </td> <td>63    </td> <td>405       </td> <td>45          </td> <td>Turtle Pokémon     </td> <td>80     </td> <td>1       </td> <td>59  </td> <td>Wartortle </td> <td>88.1           </td> <td>8             </td> <td>65       </td> <td>80        </td> <td>58   </td> <td>water</td> <td>nan   </td> <td>22.5     </td> <td>1         </td> <td>0           </td>\n",
       "        </tr>\n",
       "    </tbody>\n",
       "        <tr>\n",
       "            <td>['Torrent', 'Rain Dish']   </td> <td>103   </td> <td>630       </td> <td>45          </td> <td>Shellfish Pokémon  </td> <td>120    </td> <td>1.6     </td> <td>79  </td> <td>Blastoise </td> <td>88.1           </td> <td>9             </td> <td>135      </td> <td>115       </td> <td>78   </td> <td>water</td> <td>nan   </td> <td>85.5     </td> <td>1         </td> <td>0           </td>\n",
       "        </tr>\n",
       "    </tbody>\n",
       "        <tr>\n",
       "            <td>['Shield Dust', 'Run Away']</td> <td>30    </td> <td>195       </td> <td>255         </td> <td>Worm Pokémon       </td> <td>35     </td> <td>0.3     </td> <td>45  </td> <td>Caterpie  </td> <td>50             </td> <td>10            </td> <td>20       </td> <td>20        </td> <td>45   </td> <td>bug  </td> <td>nan   </td> <td>2.9      </td> <td>1         </td> <td>0           </td>\n",
       "        </tr>\n",
       "    </tbody>\n",
       "</table>\n",
       "<p>... (791 rows omitted)</p"
      ],
      "text/plain": [
       "abilities                   | attack | base_total | capture_rate | classfication       | defense | height_m | hp   | name       | percentage_male | pokedex_number | sp_attack | sp_defense | speed | type1 | type2  | weight_kg | generation | is_legendary\n",
       "['Overgrow', 'Chlorophyll'] | 49     | 318        | 45           | Seed Pokémon        | 49      | 0.7      | 45   | Bulbasaur  | 88.1            | 1              | 65        | 65         | 45    | grass | poison | 6.9       | 1          | 0\n",
       "['Overgrow', 'Chlorophyll'] | 62     | 405        | 45           | Seed Pokémon        | 63      | 1        | 60   | Ivysaur    | 88.1            | 2              | 80        | 80         | 60    | grass | poison | 13        | 1          | 0\n",
       "['Overgrow', 'Chlorophyll'] | 100    | 625        | 45           | Seed Pokémon        | 123     | 2        | 80   | Venusaur   | 88.1            | 3              | 122       | 120        | 80    | grass | poison | 100       | 1          | 0\n",
       "['Blaze', 'Solar Power']    | 52     | 309        | 45           | Lizard Pokémon      | 43      | 0.6      | 39   | Charmander | 88.1            | 4              | 60        | 50         | 65    | fire  | nan    | 8.5       | 1          | 0\n",
       "['Blaze', 'Solar Power']    | 64     | 405        | 45           | Flame Pokémon       | 58      | 1.1      | 58   | Charmeleon | 88.1            | 5              | 80        | 65         | 80    | fire  | nan    | 19        | 1          | 0\n",
       "['Blaze', 'Solar Power']    | 104    | 634        | 45           | Flame Pokémon       | 78      | 1.7      | 78   | Charizard  | 88.1            | 6              | 159       | 115        | 100   | fire  | flying | 90.5      | 1          | 0\n",
       "['Torrent', 'Rain Dish']    | 48     | 314        | 45           | Tiny Turtle Pokémon | 65      | 0.5      | 44   | Squirtle   | 88.1            | 7              | 50        | 64         | 43    | water | nan    | 9         | 1          | 0\n",
       "['Torrent', 'Rain Dish']    | 63     | 405        | 45           | Turtle Pokémon      | 80      | 1        | 59   | Wartortle  | 88.1            | 8              | 65        | 80         | 58    | water | nan    | 22.5      | 1          | 0\n",
       "['Torrent', 'Rain Dish']    | 103    | 630        | 45           | Shellfish Pokémon   | 120     | 1.6      | 79   | Blastoise  | 88.1            | 9              | 135       | 115        | 78    | water | nan    | 85.5      | 1          | 0\n",
       "['Shield Dust', 'Run Away'] | 30     | 195        | 255          | Worm Pokémon        | 35      | 0.3      | 45   | Caterpie   | 50              | 10             | 20        | 20         | 45    | bug   | nan    | 2.9       | 1          | 0\n",
       "... (791 rows omitted)"
      ]
     },
     "execution_count": 4,
     "metadata": {},
     "output_type": "execute_result"
    }
   ],
   "source": [
    "#Get all data from pokeon csv\n",
    "raw = Table.read_table('pokemon.csv')\n",
    "#Drop some of the columns that are less relevant, i.e., weakness against water types, etc.\n",
    "national_pokedex = raw.drop(range(1,19)).drop([\"base_egg_steps\",\"base_happiness\",\"experience_growth\",\"japanese_name\"])\n",
    "national_pokedex"
   ]
  },
  {
   "cell_type": "code",
   "execution_count": 13,
   "metadata": {},
   "outputs": [
    {
     "data": {
      "text/plain": [
       "801"
      ]
     },
     "execution_count": 13,
     "metadata": {},
     "output_type": "execute_result"
    }
   ],
   "source": [
    "#Set sample size n to be 100 - allows us to easily change the sample size later if needed\n",
    "n = 100\n",
    "N = national_pokedex.num_rows #Population size "
   ]
  },
  {
   "cell_type": "code",
   "execution_count": 79,
   "metadata": {},
   "outputs": [
    {
     "data": {
      "text/plain": [
       "428.37702871410738"
      ]
     },
     "execution_count": 79,
     "metadata": {},
     "output_type": "execute_result"
    }
   ],
   "source": [
    "#Calculate population parameter of base total stat\n",
    "pop_param = np.mean(national_pokedex.column(\"base_total\"))\n",
    "pop_param"
   ]
  },
  {
   "cell_type": "code",
   "execution_count": 80,
   "metadata": {},
   "outputs": [
    {
     "data": {
      "text/html": [
       "<table border=\"1\" class=\"dataframe\">\n",
       "    <thead>\n",
       "        <tr>\n",
       "            <th>abilities</th> <th>attack</th> <th>base_total</th> <th>capture_rate</th> <th>classfication</th> <th>defense</th> <th>height_m</th> <th>hp</th> <th>name</th> <th>percentage_male</th> <th>pokedex_number</th> <th>sp_attack</th> <th>sp_defense</th> <th>speed</th> <th>type1</th> <th>type2</th> <th>weight_kg</th> <th>generation</th> <th>is_legendary</th>\n",
       "        </tr>\n",
       "    </thead>\n",
       "    <tbody>\n",
       "        <tr>\n",
       "            <td>['Water Bubble', 'Water Absorb']        </td> <td>70    </td> <td>454       </td> <td>100         </td> <td>Water Bubble Pokémon</td> <td>92     </td> <td>1.8     </td> <td>68  </td> <td>Araquanid </td> <td>50             </td> <td>752           </td> <td>50       </td> <td>132       </td> <td>42   </td> <td>water   </td> <td>bug   </td> <td>82       </td> <td>7         </td> <td>0           </td>\n",
       "        </tr>\n",
       "    </tbody>\n",
       "        <tr>\n",
       "            <td>['Iron Fist', 'Mold Breaker', 'Scrappy']</td> <td>124   </td> <td>495       </td> <td>65          </td> <td>Daunting Pokémon    </td> <td>78     </td> <td>2.1     </td> <td>95  </td> <td>Pangoro   </td> <td>50             </td> <td>675           </td> <td>69       </td> <td>71        </td> <td>58   </td> <td>fighting</td> <td>dark  </td> <td>136      </td> <td>6         </td> <td>0           </td>\n",
       "        </tr>\n",
       "    </tbody>\n",
       "        <tr>\n",
       "            <td>['Clear Body']                          </td> <td>160   </td> <td>700       </td> <td>3           </td> <td>Jewel Pokémon       </td> <td>110    </td> <td>0.7     </td> <td>50  </td> <td>Diancie   </td> <td>nan            </td> <td>719           </td> <td>160      </td> <td>110       </td> <td>110  </td> <td>rock    </td> <td>fairy </td> <td>8.8      </td> <td>6         </td> <td>1           </td>\n",
       "        </tr>\n",
       "    </tbody>\n",
       "        <tr>\n",
       "            <td>['Chlorophyll', 'Gluttony']             </td> <td>105   </td> <td>490       </td> <td>45          </td> <td>Flycatcher Pokémon  </td> <td>65     </td> <td>1.7     </td> <td>80  </td> <td>Victreebel</td> <td>50             </td> <td>71            </td> <td>100      </td> <td>70        </td> <td>70   </td> <td>grass   </td> <td>poison</td> <td>15.5     </td> <td>1         </td> <td>0           </td>\n",
       "        </tr>\n",
       "    </tbody>\n",
       "        <tr>\n",
       "            <td>['Levitate']                            </td> <td>60    </td> <td>435       </td> <td>45          </td> <td>Screech Pokémon     </td> <td>60     </td> <td>0.7     </td> <td>60  </td> <td>Misdreavus</td> <td>50             </td> <td>200           </td> <td>85       </td> <td>85        </td> <td>85   </td> <td>ghost   </td> <td>nan   </td> <td>1        </td> <td>2         </td> <td>0           </td>\n",
       "        </tr>\n",
       "    </tbody>\n",
       "        <tr>\n",
       "            <td>['Innards Out', 'Unaware']              </td> <td>60    </td> <td>410       </td> <td>60          </td> <td>Sea Cucumber Pokémon</td> <td>130    </td> <td>0.3     </td> <td>55  </td> <td>Pyukumuku </td> <td>50             </td> <td>771           </td> <td>30       </td> <td>130       </td> <td>5    </td> <td>water   </td> <td>nan   </td> <td>1.2      </td> <td>7         </td> <td>0           </td>\n",
       "        </tr>\n",
       "    </tbody>\n",
       "        <tr>\n",
       "            <td>['Shed Skin', 'Marvel Scale']           </td> <td>84    </td> <td>420       </td> <td>45          </td> <td>Dragon Pokémon      </td> <td>65     </td> <td>4       </td> <td>61  </td> <td>Dragonair </td> <td>50             </td> <td>148           </td> <td>70       </td> <td>70        </td> <td>70   </td> <td>dragon  </td> <td>nan   </td> <td>16.5     </td> <td>1         </td> <td>0           </td>\n",
       "        </tr>\n",
       "    </tbody>\n",
       "        <tr>\n",
       "            <td>['Static', 'Plus']                      </td> <td>40    </td> <td>280       </td> <td>235         </td> <td>Wool Pokémon        </td> <td>40     </td> <td>0.6     </td> <td>55  </td> <td>Mareep    </td> <td>50             </td> <td>179           </td> <td>65       </td> <td>45        </td> <td>35   </td> <td>electric</td> <td>nan   </td> <td>7.8      </td> <td>2         </td> <td>0           </td>\n",
       "        </tr>\n",
       "    </tbody>\n",
       "        <tr>\n",
       "            <td>['Shadow Tag', 'Telepathy']             </td> <td>33    </td> <td>405       </td> <td>45          </td> <td>Patient Pokémon     </td> <td>58     </td> <td>1.3     </td> <td>190 </td> <td>Wobbuffet </td> <td>50             </td> <td>202           </td> <td>33       </td> <td>58        </td> <td>33   </td> <td>psychic </td> <td>nan   </td> <td>28.5     </td> <td>2         </td> <td>0           </td>\n",
       "        </tr>\n",
       "    </tbody>\n",
       "        <tr>\n",
       "            <td>['Beast Boost']                         </td> <td>101   </td> <td>570       </td> <td>25          </td> <td>Launch Pokémon      </td> <td>103    </td> <td>9.2     </td> <td>97  </td> <td>Celesteela</td> <td>nan            </td> <td>797           </td> <td>107      </td> <td>101       </td> <td>61   </td> <td>steel   </td> <td>flying</td> <td>999.9    </td> <td>7         </td> <td>1           </td>\n",
       "        </tr>\n",
       "    </tbody>\n",
       "</table>\n",
       "<p>... (90 rows omitted)</p"
      ],
      "text/plain": [
       "abilities                                | attack | base_total | capture_rate | classfication        | defense | height_m | hp   | name       | percentage_male | pokedex_number | sp_attack | sp_defense | speed | type1    | type2  | weight_kg | generation | is_legendary\n",
       "['Water Bubble', 'Water Absorb']         | 70     | 454        | 100          | Water Bubble Pokémon | 92      | 1.8      | 68   | Araquanid  | 50              | 752            | 50        | 132        | 42    | water    | bug    | 82        | 7          | 0\n",
       "['Iron Fist', 'Mold Breaker', 'Scrappy'] | 124    | 495        | 65           | Daunting Pokémon     | 78      | 2.1      | 95   | Pangoro    | 50              | 675            | 69        | 71         | 58    | fighting | dark   | 136       | 6          | 0\n",
       "['Clear Body']                           | 160    | 700        | 3            | Jewel Pokémon        | 110     | 0.7      | 50   | Diancie    | nan             | 719            | 160       | 110        | 110   | rock     | fairy  | 8.8       | 6          | 1\n",
       "['Chlorophyll', 'Gluttony']              | 105    | 490        | 45           | Flycatcher Pokémon   | 65      | 1.7      | 80   | Victreebel | 50              | 71             | 100       | 70         | 70    | grass    | poison | 15.5      | 1          | 0\n",
       "['Levitate']                             | 60     | 435        | 45           | Screech Pokémon      | 60      | 0.7      | 60   | Misdreavus | 50              | 200            | 85        | 85         | 85    | ghost    | nan    | 1         | 2          | 0\n",
       "['Innards Out', 'Unaware']               | 60     | 410        | 60           | Sea Cucumber Pokémon | 130     | 0.3      | 55   | Pyukumuku  | 50              | 771            | 30        | 130        | 5     | water    | nan    | 1.2       | 7          | 0\n",
       "['Shed Skin', 'Marvel Scale']            | 84     | 420        | 45           | Dragon Pokémon       | 65      | 4        | 61   | Dragonair  | 50              | 148            | 70        | 70         | 70    | dragon   | nan    | 16.5      | 1          | 0\n",
       "['Static', 'Plus']                       | 40     | 280        | 235          | Wool Pokémon         | 40      | 0.6      | 55   | Mareep     | 50              | 179            | 65        | 45         | 35    | electric | nan    | 7.8       | 2          | 0\n",
       "['Shadow Tag', 'Telepathy']              | 33     | 405        | 45           | Patient Pokémon      | 58      | 1.3      | 190  | Wobbuffet  | 50              | 202            | 33        | 58         | 33    | psychic  | nan    | 28.5      | 2          | 0\n",
       "['Beast Boost']                          | 101    | 570        | 25           | Launch Pokémon       | 103     | 9.2      | 97   | Celesteela | nan             | 797            | 107       | 101        | 61    | steel    | flying | 999.9     | 7          | 1\n",
       "... (90 rows omitted)"
      ]
     },
     "execution_count": 80,
     "metadata": {},
     "output_type": "execute_result"
    }
   ],
   "source": [
    "#Randomly select n observations. Note this is implicitly with replacement\n",
    "sample_1 = national_pokedex.take(np.random.choice(N,n))\n",
    "sample_1"
   ]
  },
  {
   "cell_type": "code",
   "execution_count": 81,
   "metadata": {},
   "outputs": [
    {
     "data": {
      "text/html": [
       "<table border=\"1\" class=\"dataframe\">\n",
       "    <thead>\n",
       "        <tr>\n",
       "            <th>abilities</th> <th>attack</th> <th>base_total</th> <th>capture_rate</th> <th>classfication</th> <th>defense</th> <th>height_m</th> <th>hp</th> <th>name</th> <th>percentage_male</th> <th>pokedex_number</th> <th>sp_attack</th> <th>sp_defense</th> <th>speed</th> <th>type1</th> <th>type2</th> <th>weight_kg</th> <th>generation</th> <th>is_legendary</th>\n",
       "        </tr>\n",
       "    </thead>\n",
       "    <tbody>\n",
       "        <tr>\n",
       "            <td>['Blaze', 'Solar Power']                                    </td> <td>104   </td> <td>634       </td> <td>45          </td> <td>Flame Pokémon     </td> <td>78     </td> <td>1.7     </td> <td>78  </td> <td>Charizard</td> <td>88.1           </td> <td>6             </td> <td>159      </td> <td>115       </td> <td>100  </td> <td>fire    </td> <td>flying  </td> <td>90.5     </td> <td>1         </td> <td>0           </td>\n",
       "        </tr>\n",
       "    </tbody>\n",
       "        <tr>\n",
       "            <td>['Keen Eye', 'Tangled Feet', 'Big Pecks']                   </td> <td>45    </td> <td>251       </td> <td>255         </td> <td>Tiny Bird Pokémon </td> <td>40     </td> <td>0.3     </td> <td>40  </td> <td>Pidgey   </td> <td>50             </td> <td>16            </td> <td>35       </td> <td>35        </td> <td>56   </td> <td>normal  </td> <td>flying  </td> <td>1.8      </td> <td>1         </td> <td>0           </td>\n",
       "        </tr>\n",
       "    </tbody>\n",
       "        <tr>\n",
       "            <td>['Static', 'Lightningrod', 'Surge Surfer']                  </td> <td>85    </td> <td>485       </td> <td>75          </td> <td>Mouse Pokémon     </td> <td>50     </td> <td>nan     </td> <td>60  </td> <td>Raichu   </td> <td>50             </td> <td>26            </td> <td>95       </td> <td>85        </td> <td>110  </td> <td>electric</td> <td>electric</td> <td>nan      </td> <td>1         </td> <td>0           </td>\n",
       "        </tr>\n",
       "    </tbody>\n",
       "        <tr>\n",
       "            <td>['Cute Charm', 'Magic Guard', 'Unaware']                    </td> <td>70    </td> <td>483       </td> <td>25          </td> <td>Fairy Pokémon     </td> <td>73     </td> <td>1.3     </td> <td>95  </td> <td>Clefable </td> <td>24.6           </td> <td>36            </td> <td>95       </td> <td>90        </td> <td>60   </td> <td>fairy   </td> <td>nan     </td> <td>40       </td> <td>1         </td> <td>0           </td>\n",
       "        </tr>\n",
       "    </tbody>\n",
       "        <tr>\n",
       "            <td>['Effect Spore', 'Dry Skin', 'Damp']                        </td> <td>70    </td> <td>285       </td> <td>190         </td> <td>Mushroom Pokémon  </td> <td>55     </td> <td>0.3     </td> <td>35  </td> <td>Paras    </td> <td>50             </td> <td>46            </td> <td>45       </td> <td>55        </td> <td>25   </td> <td>bug     </td> <td>grass   </td> <td>5.4      </td> <td>1         </td> <td>0           </td>\n",
       "        </tr>\n",
       "    </tbody>\n",
       "        <tr>\n",
       "            <td>['Vital Spirit', 'Anger Point', 'Defiant']                  </td> <td>80    </td> <td>305       </td> <td>190         </td> <td>Pig Monkey Pokémon</td> <td>35     </td> <td>0.5     </td> <td>40  </td> <td>Mankey   </td> <td>50             </td> <td>56            </td> <td>35       </td> <td>45        </td> <td>70   </td> <td>fighting</td> <td>nan     </td> <td>28       </td> <td>1         </td> <td>0           </td>\n",
       "        </tr>\n",
       "    </tbody>\n",
       "        <tr>\n",
       "            <td>['Guts', 'No Guard', 'Steadfast']                           </td> <td>80    </td> <td>305       </td> <td>180         </td> <td>Superpower Pokémon</td> <td>50     </td> <td>0.8     </td> <td>70  </td> <td>Machop   </td> <td>75.4           </td> <td>66            </td> <td>35       </td> <td>35        </td> <td>35   </td> <td>fighting</td> <td>nan     </td> <td>19.5     </td> <td>1         </td> <td>0           </td>\n",
       "        </tr>\n",
       "    </tbody>\n",
       "        <tr>\n",
       "            <td>['Rock Head', 'Sturdy', 'Sand Veil', 'Magnet Pull', 'Stu ...</td> <td>120   </td> <td>495       </td> <td>45          </td> <td>Megaton Pokémon   </td> <td>130    </td> <td>nan     </td> <td>80  </td> <td>Golem    </td> <td>50             </td> <td>76            </td> <td>55       </td> <td>65        </td> <td>45   </td> <td>rock    </td> <td>ground  </td> <td>nan      </td> <td>1         </td> <td>0           </td>\n",
       "        </tr>\n",
       "    </tbody>\n",
       "        <tr>\n",
       "            <td>['Thick Fat', 'Hydration', 'Ice Body']                      </td> <td>45    </td> <td>325       </td> <td>190         </td> <td>Sea Lion Pokémon  </td> <td>55     </td> <td>1.1     </td> <td>65  </td> <td>Seel     </td> <td>50             </td> <td>86            </td> <td>45       </td> <td>70        </td> <td>45   </td> <td>water   </td> <td>nan     </td> <td>90       </td> <td>1         </td> <td>0           </td>\n",
       "        </tr>\n",
       "    </tbody>\n",
       "        <tr>\n",
       "            <td>['Insomnia', 'Forewarn', 'Inner Focus']                     </td> <td>48    </td> <td>328       </td> <td>190         </td> <td>Hypnosis Pokémon  </td> <td>45     </td> <td>1       </td> <td>60  </td> <td>Drowzee  </td> <td>50             </td> <td>96            </td> <td>43       </td> <td>90        </td> <td>42   </td> <td>psychic </td> <td>nan     </td> <td>32.4     </td> <td>1         </td> <td>0           </td>\n",
       "        </tr>\n",
       "    </tbody>\n",
       "</table>"
      ],
      "text/plain": [
       "abilities                                                    | attack | base_total | capture_rate | classfication      | defense | height_m | hp   | name      | percentage_male | pokedex_number | sp_attack | sp_defense | speed | type1    | type2    | weight_kg | generation | is_legendary\n",
       "['Blaze', 'Solar Power']                                     | 104    | 634        | 45           | Flame Pokémon      | 78      | 1.7      | 78   | Charizard | 88.1            | 6              | 159       | 115        | 100   | fire     | flying   | 90.5      | 1          | 0\n",
       "['Keen Eye', 'Tangled Feet', 'Big Pecks']                    | 45     | 251        | 255          | Tiny Bird Pokémon  | 40      | 0.3      | 40   | Pidgey    | 50              | 16             | 35        | 35         | 56    | normal   | flying   | 1.8       | 1          | 0\n",
       "['Static', 'Lightningrod', 'Surge Surfer']                   | 85     | 485        | 75           | Mouse Pokémon      | 50      | nan      | 60   | Raichu    | 50              | 26             | 95        | 85         | 110   | electric | electric | nan       | 1          | 0\n",
       "['Cute Charm', 'Magic Guard', 'Unaware']                     | 70     | 483        | 25           | Fairy Pokémon      | 73      | 1.3      | 95   | Clefable  | 24.6            | 36             | 95        | 90         | 60    | fairy    | nan      | 40        | 1          | 0\n",
       "['Effect Spore', 'Dry Skin', 'Damp']                         | 70     | 285        | 190          | Mushroom Pokémon   | 55      | 0.3      | 35   | Paras     | 50              | 46             | 45        | 55         | 25    | bug      | grass    | 5.4       | 1          | 0\n",
       "['Vital Spirit', 'Anger Point', 'Defiant']                   | 80     | 305        | 190          | Pig Monkey Pokémon | 35      | 0.5      | 40   | Mankey    | 50              | 56             | 35        | 45         | 70    | fighting | nan      | 28        | 1          | 0\n",
       "['Guts', 'No Guard', 'Steadfast']                            | 80     | 305        | 180          | Superpower Pokémon | 50      | 0.8      | 70   | Machop    | 75.4            | 66             | 35        | 35         | 35    | fighting | nan      | 19.5      | 1          | 0\n",
       "['Rock Head', 'Sturdy', 'Sand Veil', 'Magnet Pull', 'Stu ... | 120    | 495        | 45           | Megaton Pokémon    | 130     | nan      | 80   | Golem     | 50              | 76             | 55        | 65         | 45    | rock     | ground   | nan       | 1          | 0\n",
       "['Thick Fat', 'Hydration', 'Ice Body']                       | 45     | 325        | 190          | Sea Lion Pokémon   | 55      | 1.1      | 65   | Seel      | 50              | 86             | 45        | 70         | 45    | water    | nan      | 90        | 1          | 0\n",
       "['Insomnia', 'Forewarn', 'Inner Focus']                      | 48     | 328        | 190          | Hypnosis Pokémon   | 45      | 1        | 60   | Drowzee   | 50              | 96             | 43        | 90         | 42    | psychic  | nan      | 32.4      | 1          | 0"
      ]
     },
     "execution_count": 81,
     "metadata": {},
     "output_type": "execute_result"
    }
   ],
   "source": [
    "#First select random number from 0 to 9 and then take every n/10-th row \n",
    "sample_2 = national_pokedex.take(np.arange(np.random.choice(10),n+1,int(np.round(n/10))))\n",
    "sample_2"
   ]
  },
  {
   "cell_type": "code",
   "execution_count": 82,
   "metadata": {},
   "outputs": [
    {
     "data": {
      "text/html": [
       "<table border=\"1\" class=\"dataframe\">\n",
       "    <thead>\n",
       "        <tr>\n",
       "            <th>abilities</th> <th>attack</th> <th>base_total</th> <th>capture_rate</th> <th>classfication</th> <th>defense</th> <th>height_m</th> <th>hp</th> <th>name</th> <th>percentage_male</th> <th>pokedex_number</th> <th>sp_attack</th> <th>sp_defense</th> <th>speed</th> <th>type1</th> <th>type2</th> <th>weight_kg</th> <th>generation</th> <th>is_legendary</th>\n",
       "        </tr>\n",
       "    </thead>\n",
       "    <tbody>\n",
       "        <tr>\n",
       "            <td>['Chlorophyll', 'Sap Sipper', 'Serene Grace'] </td> <td>100   </td> <td>475       </td> <td>75          </td> <td>Season Pokémon      </td> <td>70     </td> <td>1.9     </td> <td>80  </td> <td>Sawsbuck </td> <td>50             </td> <td>586           </td> <td>60       </td> <td>70        </td> <td>95   </td> <td>normal </td> <td>grass </td> <td>92.5     </td> <td>5         </td> <td>0           </td>\n",
       "        </tr>\n",
       "    </tbody>\n",
       "        <tr>\n",
       "            <td>['Flower Veil', 'Symbiosis']                  </td> <td>38    </td> <td>303       </td> <td>225         </td> <td>Single Bloom Pokémon</td> <td>39     </td> <td>0.1     </td> <td>44  </td> <td>Flabébé  </td> <td>0              </td> <td>669           </td> <td>61       </td> <td>79        </td> <td>42   </td> <td>fairy  </td> <td>nan   </td> <td>0.1      </td> <td>6         </td> <td>0           </td>\n",
       "        </tr>\n",
       "    </tbody>\n",
       "        <tr>\n",
       "            <td>['Water Absorb', 'Chlorophyll', 'Storm Drain']</td> <td>86    </td> <td>461       </td> <td>255         </td> <td>Cactus Pokémon      </td> <td>67     </td> <td>1       </td> <td>75  </td> <td>Maractus </td> <td>50             </td> <td>556           </td> <td>106      </td> <td>67        </td> <td>60   </td> <td>grass  </td> <td>nan   </td> <td>28       </td> <td>5         </td> <td>0           </td>\n",
       "        </tr>\n",
       "    </tbody>\n",
       "        <tr>\n",
       "            <td>['Keen Eye', 'Tangled Feet', 'Big Pecks']     </td> <td>80    </td> <td>579       </td> <td>45          </td> <td>Bird Pokémon        </td> <td>80     </td> <td>1.5     </td> <td>83  </td> <td>Pidgeot  </td> <td>50             </td> <td>18            </td> <td>135      </td> <td>80        </td> <td>121  </td> <td>normal </td> <td>flying</td> <td>39.5     </td> <td>1         </td> <td>0           </td>\n",
       "        </tr>\n",
       "    </tbody>\n",
       "        <tr>\n",
       "            <td>['Levitate']                                  </td> <td>100   </td> <td>520       </td> <td>45          </td> <td>Mystic Pokémon      </td> <td>80     </td> <td>2       </td> <td>80  </td> <td>Flygon   </td> <td>50             </td> <td>330           </td> <td>80       </td> <td>80        </td> <td>100  </td> <td>ground </td> <td>dragon</td> <td>82       </td> <td>3         </td> <td>0           </td>\n",
       "        </tr>\n",
       "    </tbody>\n",
       "        <tr>\n",
       "            <td>['Stench', 'Sticky Hold', 'Aftermath']        </td> <td>50    </td> <td>329       </td> <td>190         </td> <td>Trash Bag Pokémon   </td> <td>62     </td> <td>0.6     </td> <td>50  </td> <td>Trubbish </td> <td>50             </td> <td>568           </td> <td>40       </td> <td>62        </td> <td>65   </td> <td>poison </td> <td>nan   </td> <td>31       </td> <td>5         </td> <td>0           </td>\n",
       "        </tr>\n",
       "    </tbody>\n",
       "        <tr>\n",
       "            <td>['Insomnia', 'Super Luck', 'Moxie']           </td> <td>125   </td> <td>505       </td> <td>30          </td> <td>Big Boss Pokémon    </td> <td>52     </td> <td>0.9     </td> <td>100 </td> <td>Honchkrow</td> <td>50             </td> <td>430           </td> <td>105      </td> <td>52        </td> <td>71   </td> <td>dark   </td> <td>flying</td> <td>27.3     </td> <td>4         </td> <td>0           </td>\n",
       "        </tr>\n",
       "    </tbody>\n",
       "        <tr>\n",
       "            <td>['Levitate']                                  </td> <td>105   </td> <td>580       </td> <td>3           </td> <td>Emotion Pokémon     </td> <td>105    </td> <td>0.3     </td> <td>80  </td> <td>Mesprit  </td> <td>nan            </td> <td>481           </td> <td>105      </td> <td>105       </td> <td>80   </td> <td>psychic</td> <td>nan   </td> <td>0.3      </td> <td>4         </td> <td>1           </td>\n",
       "        </tr>\n",
       "    </tbody>\n",
       "        <tr>\n",
       "            <td>['Limber', 'Own Tempo', 'Keen Eye']           </td> <td>55    </td> <td>310       </td> <td>190         </td> <td>Catty Pokémon       </td> <td>42     </td> <td>0.5     </td> <td>49  </td> <td>Glameow  </td> <td>24.6           </td> <td>431           </td> <td>42       </td> <td>37        </td> <td>85   </td> <td>normal </td> <td>nan   </td> <td>3.9      </td> <td>4         </td> <td>0           </td>\n",
       "        </tr>\n",
       "    </tbody>\n",
       "        <tr>\n",
       "            <td>['Sturdy', 'Weak Armor', 'Sand Force']        </td> <td>105   </td> <td>390       </td> <td>120         </td> <td>Ore Pokémon         </td> <td>105    </td> <td>0.9     </td> <td>70  </td> <td>Boldore  </td> <td>50             </td> <td>525           </td> <td>50       </td> <td>40        </td> <td>20   </td> <td>rock   </td> <td>nan   </td> <td>102      </td> <td>5         </td> <td>0           </td>\n",
       "        </tr>\n",
       "    </tbody>\n",
       "</table>\n",
       "<p>... (90 rows omitted)</p"
      ],
      "text/plain": [
       "abilities                                      | attack | base_total | capture_rate | classfication        | defense | height_m | hp   | name      | percentage_male | pokedex_number | sp_attack | sp_defense | speed | type1   | type2  | weight_kg | generation | is_legendary\n",
       "['Chlorophyll', 'Sap Sipper', 'Serene Grace']  | 100    | 475        | 75           | Season Pokémon       | 70      | 1.9      | 80   | Sawsbuck  | 50              | 586            | 60        | 70         | 95    | normal  | grass  | 92.5      | 5          | 0\n",
       "['Flower Veil', 'Symbiosis']                   | 38     | 303        | 225          | Single Bloom Pokémon | 39      | 0.1      | 44   | Flabébé   | 0               | 669            | 61        | 79         | 42    | fairy   | nan    | 0.1       | 6          | 0\n",
       "['Water Absorb', 'Chlorophyll', 'Storm Drain'] | 86     | 461        | 255          | Cactus Pokémon       | 67      | 1        | 75   | Maractus  | 50              | 556            | 106       | 67         | 60    | grass   | nan    | 28        | 5          | 0\n",
       "['Keen Eye', 'Tangled Feet', 'Big Pecks']      | 80     | 579        | 45           | Bird Pokémon         | 80      | 1.5      | 83   | Pidgeot   | 50              | 18             | 135       | 80         | 121   | normal  | flying | 39.5      | 1          | 0\n",
       "['Levitate']                                   | 100    | 520        | 45           | Mystic Pokémon       | 80      | 2        | 80   | Flygon    | 50              | 330            | 80        | 80         | 100   | ground  | dragon | 82        | 3          | 0\n",
       "['Stench', 'Sticky Hold', 'Aftermath']         | 50     | 329        | 190          | Trash Bag Pokémon    | 62      | 0.6      | 50   | Trubbish  | 50              | 568            | 40        | 62         | 65    | poison  | nan    | 31        | 5          | 0\n",
       "['Insomnia', 'Super Luck', 'Moxie']            | 125    | 505        | 30           | Big Boss Pokémon     | 52      | 0.9      | 100  | Honchkrow | 50              | 430            | 105       | 52         | 71    | dark    | flying | 27.3      | 4          | 0\n",
       "['Levitate']                                   | 105    | 580        | 3            | Emotion Pokémon      | 105     | 0.3      | 80   | Mesprit   | nan             | 481            | 105       | 105        | 80    | psychic | nan    | 0.3       | 4          | 1\n",
       "['Limber', 'Own Tempo', 'Keen Eye']            | 55     | 310        | 190          | Catty Pokémon        | 42      | 0.5      | 49   | Glameow   | 24.6            | 431            | 42        | 37         | 85    | normal  | nan    | 3.9       | 4          | 0\n",
       "['Sturdy', 'Weak Armor', 'Sand Force']         | 105    | 390        | 120          | Ore Pokémon          | 105     | 0.9      | 70   | Boldore   | 50              | 525            | 50        | 40         | 20    | rock    | nan    | 102       | 5          | 0\n",
       "... (90 rows omitted)"
      ]
     },
     "execution_count": 82,
     "metadata": {},
     "output_type": "execute_result"
    }
   ],
   "source": [
    "#Repeat Sample 1 using a for loop instead to take one row at a time\n",
    "sample_3 = Table(national_pokedex)\n",
    "for i in range(0,n):\n",
    "    sample_3 = sample_3.with_row(national_pokedex.take(np.random.choice(N)))\n",
    "sample_3"
   ]
  },
  {
   "cell_type": "code",
   "execution_count": 87,
   "metadata": {},
   "outputs": [
    {
     "data": {
      "text/plain": [
       "428.60768999999999"
      ]
     },
     "execution_count": 87,
     "metadata": {},
     "output_type": "execute_result"
    }
   ],
   "source": [
    "#Take 1000 samples using same technique from samples 1 and 3\n",
    "simulated_sample_means = []\n",
    "num_samples = 1000\n",
    "for i in range(num_samples):\n",
    "    simulated_sample_means = np.append(simulated_sample_means, np.mean(national_pokedex.take(np.random.choice(N,n)).column(\"base_total\")))\n",
    "sample_4 = np.mean(simulated_sample_means)\n",
    "sample_4"
   ]
  },
  {
   "cell_type": "code",
   "execution_count": 90,
   "metadata": {},
   "outputs": [
    {
     "data": {
      "text/plain": [
       "array([ 420.7    ,  389.6    ,  436.02   ,  428.60769])"
      ]
     },
     "execution_count": 90,
     "metadata": {},
     "output_type": "execute_result"
    }
   ],
   "source": [
    "#Store sample statistics in one array\n",
    "sample_stats = []\n",
    "samples = [sample_1, sample_2, sample_3]\n",
    "for i in range(3):\n",
    "    sample_stats = np.append(sample_stats,np.mean(samples[i].column(\"base_total\")))\n",
    "sample_stats = np.append(sample_stats, sample_4) #Note in this case, the sample_4 variable is already the mean!\n",
    "sample_stats"
   ]
  },
  {
   "cell_type": "code",
   "execution_count": 98,
   "metadata": {},
   "outputs": [
    {
     "data": {
      "image/png": "[encoded data removed]",
      "text/plain": [
       "<matplotlib.figure.Figure at 0x13bcbf57160>"
      ]
     },
     "metadata": {},
     "output_type": "display_data"
    }
   ],
   "source": [
    "#See the results of the simulation from sample_4\n",
    "sim_results = Table().with_column(\"Repetition\",np.arange(1,num_samples+1),\"Mean BST\", simulated_sample_means)\n",
    "sim_results.hist(\"Mean BST\", unit = \"Point\")"
   ]
  },
  {
   "cell_type": "code",
   "execution_count": null,
   "metadata": {
    "collapsed": true
   },
   "outputs": [],
   "source": []
  }
 ],
 "metadata": {
  "kernelspec": {
   "display_name": "Python 3",
   "language": "python",
   "name": "python3"
  },
  "language_info": {
   "codemirror_mode": {
    "name": "ipython",
    "version": 3
   },
   "file_extension": ".py",
   "mimetype": "text/x-python",
   "name": "python",
   "nbconvert_exporter": "python",
   "pygments_lexer": "ipython3",
   "version": "3.6.1"
  }
 },
 "nbformat": 4,
 "nbformat_minor": 2
}
