{
 "cells": [
  {
   "cell_type": "code",
   "execution_count": 1,
   "metadata": {
    "collapsed": true
   },
   "outputs": [],
   "source": [
    "from datascience import *\n",
    "import numpy as np\n",
    "import matplotlib\n",
    "matplotlib.use('Agg', warn=False)\n",
    "%matplotlib inline\n",
    "import matplotlib.pyplot as plots\n",
    "plots.style.use('fivethirtyeight')"
   ]
  },
  {
   "cell_type": "code",
   "execution_count": 2,
   "metadata": {
    "collapsed": true
   },
   "outputs": [],
   "source": [
    "#Get all data from pokeon csv\n",
    "raw = Table.read_table('pokemon.csv')"
   ]
  },
  {
   "cell_type": "code",
   "execution_count": 3,
   "metadata": {},
   "outputs": [
    {
     "data": {
      "text/html": [
       "<table border=\"1\" class=\"dataframe\">\n",
       "    <thead>\n",
       "        <tr>\n",
       "            <th>abilities</th> <th>attack</th> <th>base_total</th> <th>capture_rate</th> <th>classfication</th> <th>defense</th> <th>height_m</th> <th>hp</th> <th>name</th> <th>percentage_male</th> <th>pokedex_number</th> <th>sp_attack</th> <th>sp_defense</th> <th>speed</th> <th>type1</th> <th>type2</th> <th>weight_kg</th> <th>generation</th> <th>is_legendary</th>\n",
       "        </tr>\n",
       "    </thead>\n",
       "    <tbody>\n",
       "        <tr>\n",
       "            <td>['Overgrow', 'Chlorophyll']</td> <td>49    </td> <td>318       </td> <td>45          </td> <td>Seed Pokémon       </td> <td>49     </td> <td>0.7     </td> <td>45  </td> <td>Bulbasaur </td> <td>88.1           </td> <td>1             </td> <td>65       </td> <td>65        </td> <td>45   </td> <td>grass</td> <td>poison</td> <td>6.9      </td> <td>1         </td> <td>0           </td>\n",
       "        </tr>\n",
       "    </tbody>\n",
       "        <tr>\n",
       "            <td>['Overgrow', 'Chlorophyll']</td> <td>62    </td> <td>405       </td> <td>45          </td> <td>Seed Pokémon       </td> <td>63     </td> <td>1       </td> <td>60  </td> <td>Ivysaur   </td> <td>88.1           </td> <td>2             </td> <td>80       </td> <td>80        </td> <td>60   </td> <td>grass</td> <td>poison</td> <td>13       </td> <td>1         </td> <td>0           </td>\n",
       "        </tr>\n",
       "    </tbody>\n",
       "        <tr>\n",
       "            <td>['Overgrow', 'Chlorophyll']</td> <td>100   </td> <td>625       </td> <td>45          </td> <td>Seed Pokémon       </td> <td>123    </td> <td>2       </td> <td>80  </td> <td>Venusaur  </td> <td>88.1           </td> <td>3             </td> <td>122      </td> <td>120       </td> <td>80   </td> <td>grass</td> <td>poison</td> <td>100      </td> <td>1         </td> <td>0           </td>\n",
       "        </tr>\n",
       "    </tbody>\n",
       "        <tr>\n",
       "            <td>['Blaze', 'Solar Power']   </td> <td>52    </td> <td>309       </td> <td>45          </td> <td>Lizard Pokémon     </td> <td>43     </td> <td>0.6     </td> <td>39  </td> <td>Charmander</td> <td>88.1           </td> <td>4             </td> <td>60       </td> <td>50        </td> <td>65   </td> <td>fire </td> <td>nan   </td> <td>8.5      </td> <td>1         </td> <td>0           </td>\n",
       "        </tr>\n",
       "    </tbody>\n",
       "        <tr>\n",
       "            <td>['Blaze', 'Solar Power']   </td> <td>64    </td> <td>405       </td> <td>45          </td> <td>Flame Pokémon      </td> <td>58     </td> <td>1.1     </td> <td>58  </td> <td>Charmeleon</td> <td>88.1           </td> <td>5             </td> <td>80       </td> <td>65        </td> <td>80   </td> <td>fire </td> <td>nan   </td> <td>19       </td> <td>1         </td> <td>0           </td>\n",
       "        </tr>\n",
       "    </tbody>\n",
       "        <tr>\n",
       "            <td>['Blaze', 'Solar Power']   </td> <td>104   </td> <td>634       </td> <td>45          </td> <td>Flame Pokémon      </td> <td>78     </td> <td>1.7     </td> <td>78  </td> <td>Charizard </td> <td>88.1           </td> <td>6             </td> <td>159      </td> <td>115       </td> <td>100  </td> <td>fire </td> <td>flying</td> <td>90.5     </td> <td>1         </td> <td>0           </td>\n",
       "        </tr>\n",
       "    </tbody>\n",
       "        <tr>\n",
       "            <td>['Torrent', 'Rain Dish']   </td> <td>48    </td> <td>314       </td> <td>45          </td> <td>Tiny Turtle Pokémon</td> <td>65     </td> <td>0.5     </td> <td>44  </td> <td>Squirtle  </td> <td>88.1           </td> <td>7             </td> <td>50       </td> <td>64        </td> <td>43   </td> <td>water</td> <td>nan   </td> <td>9        </td> <td>1         </td> <td>0           </td>\n",
       "        </tr>\n",
       "    </tbody>\n",
       "        <tr>\n",
       "            <td>['Torrent', 'Rain Dish']   </td> <td>63    </td> <td>405       </td> <td>45          </td> <td>Turtle Pokémon     </td> <td>80     </td> <td>1       </td> <td>59  </td> <td>Wartortle </td> <td>88.1           </td> <td>8             </td> <td>65       </td> <td>80        </td> <td>58   </td> <td>water</td> <td>nan   </td> <td>22.5     </td> <td>1         </td> <td>0           </td>\n",
       "        </tr>\n",
       "    </tbody>\n",
       "        <tr>\n",
       "            <td>['Torrent', 'Rain Dish']   </td> <td>103   </td> <td>630       </td> <td>45          </td> <td>Shellfish Pokémon  </td> <td>120    </td> <td>1.6     </td> <td>79  </td> <td>Blastoise </td> <td>88.1           </td> <td>9             </td> <td>135      </td> <td>115       </td> <td>78   </td> <td>water</td> <td>nan   </td> <td>85.5     </td> <td>1         </td> <td>0           </td>\n",
       "        </tr>\n",
       "    </tbody>\n",
       "        <tr>\n",
       "            <td>['Shield Dust', 'Run Away']</td> <td>30    </td> <td>195       </td> <td>255         </td> <td>Worm Pokémon       </td> <td>35     </td> <td>0.3     </td> <td>45  </td> <td>Caterpie  </td> <td>50             </td> <td>10            </td> <td>20       </td> <td>20        </td> <td>45   </td> <td>bug  </td> <td>nan   </td> <td>2.9      </td> <td>1         </td> <td>0           </td>\n",
       "        </tr>\n",
       "    </tbody>\n",
       "</table>\n",
       "<p>... (791 rows omitted)</p"
      ],
      "text/plain": [
       "abilities                   | attack | base_total | capture_rate | classfication       | defense | height_m | hp   | name       | percentage_male | pokedex_number | sp_attack | sp_defense | speed | type1 | type2  | weight_kg | generation | is_legendary\n",
       "['Overgrow', 'Chlorophyll'] | 49     | 318        | 45           | Seed Pokémon        | 49      | 0.7      | 45   | Bulbasaur  | 88.1            | 1              | 65        | 65         | 45    | grass | poison | 6.9       | 1          | 0\n",
       "['Overgrow', 'Chlorophyll'] | 62     | 405        | 45           | Seed Pokémon        | 63      | 1        | 60   | Ivysaur    | 88.1            | 2              | 80        | 80         | 60    | grass | poison | 13        | 1          | 0\n",
       "['Overgrow', 'Chlorophyll'] | 100    | 625        | 45           | Seed Pokémon        | 123     | 2        | 80   | Venusaur   | 88.1            | 3              | 122       | 120        | 80    | grass | poison | 100       | 1          | 0\n",
       "['Blaze', 'Solar Power']    | 52     | 309        | 45           | Lizard Pokémon      | 43      | 0.6      | 39   | Charmander | 88.1            | 4              | 60        | 50         | 65    | fire  | nan    | 8.5       | 1          | 0\n",
       "['Blaze', 'Solar Power']    | 64     | 405        | 45           | Flame Pokémon       | 58      | 1.1      | 58   | Charmeleon | 88.1            | 5              | 80        | 65         | 80    | fire  | nan    | 19        | 1          | 0\n",
       "['Blaze', 'Solar Power']    | 104    | 634        | 45           | Flame Pokémon       | 78      | 1.7      | 78   | Charizard  | 88.1            | 6              | 159       | 115        | 100   | fire  | flying | 90.5      | 1          | 0\n",
       "['Torrent', 'Rain Dish']    | 48     | 314        | 45           | Tiny Turtle Pokémon | 65      | 0.5      | 44   | Squirtle   | 88.1            | 7              | 50        | 64         | 43    | water | nan    | 9         | 1          | 0\n",
       "['Torrent', 'Rain Dish']    | 63     | 405        | 45           | Turtle Pokémon      | 80      | 1        | 59   | Wartortle  | 88.1            | 8              | 65        | 80         | 58    | water | nan    | 22.5      | 1          | 0\n",
       "['Torrent', 'Rain Dish']    | 103    | 630        | 45           | Shellfish Pokémon   | 120     | 1.6      | 79   | Blastoise  | 88.1            | 9              | 135       | 115        | 78    | water | nan    | 85.5      | 1          | 0\n",
       "['Shield Dust', 'Run Away'] | 30     | 195        | 255          | Worm Pokémon        | 35      | 0.3      | 45   | Caterpie   | 50              | 10             | 20        | 20         | 45    | bug   | nan    | 2.9       | 1          | 0\n",
       "... (791 rows omitted)"
      ]
     },
     "execution_count": 3,
     "metadata": {},
     "output_type": "execute_result"
    }
   ],
   "source": [
    "#Drop some of the columns that are less relevant, i.e., weakness against water types, etc.\n",
    "national_pokedex = raw.drop(range(1,19)).drop([\"base_egg_steps\",\"base_happiness\",\"experience_growth\",\"japanese_name\"])\n",
    "national_pokedex"
   ]
  },
  {
   "cell_type": "code",
   "execution_count": 4,
   "metadata": {},
   "outputs": [
    {
     "data": {
      "text/html": [
       "<table border=\"1\" class=\"dataframe\">\n",
       "    <thead>\n",
       "        <tr>\n",
       "            <th>abilities</th> <th>attack</th> <th>base_total</th> <th>capture_rate</th> <th>defense</th> <th>height_m</th> <th>hp</th> <th>name</th> <th>percentage_male</th> <th>pokedex_number</th> <th>sp_attack</th> <th>sp_defense</th> <th>speed</th> <th>type1</th> <th>type2</th> <th>weight_kg</th> <th>generation</th> <th>is_legendary</th> <th>classfication</th>\n",
       "        </tr>\n",
       "    </thead>\n",
       "    <tbody>\n",
       "        <tr>\n",
       "            <td>['Overgrow', 'Chlorophyll']</td> <td>49    </td> <td>318       </td> <td>45          </td> <td>49     </td> <td>0.7     </td> <td>45  </td> <td>Bulbasaur </td> <td>88.1           </td> <td>1             </td> <td>65       </td> <td>65        </td> <td>45   </td> <td>grass</td> <td>poison</td> <td>6.9      </td> <td>1         </td> <td>0           </td> <td>Seed         </td>\n",
       "        </tr>\n",
       "    </tbody>\n",
       "        <tr>\n",
       "            <td>['Overgrow', 'Chlorophyll']</td> <td>62    </td> <td>405       </td> <td>45          </td> <td>63     </td> <td>1       </td> <td>60  </td> <td>Ivysaur   </td> <td>88.1           </td> <td>2             </td> <td>80       </td> <td>80        </td> <td>60   </td> <td>grass</td> <td>poison</td> <td>13       </td> <td>1         </td> <td>0           </td> <td>Seed         </td>\n",
       "        </tr>\n",
       "    </tbody>\n",
       "        <tr>\n",
       "            <td>['Overgrow', 'Chlorophyll']</td> <td>100   </td> <td>625       </td> <td>45          </td> <td>123    </td> <td>2       </td> <td>80  </td> <td>Venusaur  </td> <td>88.1           </td> <td>3             </td> <td>122      </td> <td>120       </td> <td>80   </td> <td>grass</td> <td>poison</td> <td>100      </td> <td>1         </td> <td>0           </td> <td>Seed         </td>\n",
       "        </tr>\n",
       "    </tbody>\n",
       "        <tr>\n",
       "            <td>['Blaze', 'Solar Power']   </td> <td>52    </td> <td>309       </td> <td>45          </td> <td>43     </td> <td>0.6     </td> <td>39  </td> <td>Charmander</td> <td>88.1           </td> <td>4             </td> <td>60       </td> <td>50        </td> <td>65   </td> <td>fire </td> <td>nan   </td> <td>8.5      </td> <td>1         </td> <td>0           </td> <td>Lizard       </td>\n",
       "        </tr>\n",
       "    </tbody>\n",
       "        <tr>\n",
       "            <td>['Blaze', 'Solar Power']   </td> <td>64    </td> <td>405       </td> <td>45          </td> <td>58     </td> <td>1.1     </td> <td>58  </td> <td>Charmeleon</td> <td>88.1           </td> <td>5             </td> <td>80       </td> <td>65        </td> <td>80   </td> <td>fire </td> <td>nan   </td> <td>19       </td> <td>1         </td> <td>0           </td> <td>Flame        </td>\n",
       "        </tr>\n",
       "    </tbody>\n",
       "        <tr>\n",
       "            <td>['Blaze', 'Solar Power']   </td> <td>104   </td> <td>634       </td> <td>45          </td> <td>78     </td> <td>1.7     </td> <td>78  </td> <td>Charizard </td> <td>88.1           </td> <td>6             </td> <td>159      </td> <td>115       </td> <td>100  </td> <td>fire </td> <td>flying</td> <td>90.5     </td> <td>1         </td> <td>0           </td> <td>Flame        </td>\n",
       "        </tr>\n",
       "    </tbody>\n",
       "        <tr>\n",
       "            <td>['Torrent', 'Rain Dish']   </td> <td>48    </td> <td>314       </td> <td>45          </td> <td>65     </td> <td>0.5     </td> <td>44  </td> <td>Squirtle  </td> <td>88.1           </td> <td>7             </td> <td>50       </td> <td>64        </td> <td>43   </td> <td>water</td> <td>nan   </td> <td>9        </td> <td>1         </td> <td>0           </td> <td>Tiny Turtle  </td>\n",
       "        </tr>\n",
       "    </tbody>\n",
       "        <tr>\n",
       "            <td>['Torrent', 'Rain Dish']   </td> <td>63    </td> <td>405       </td> <td>45          </td> <td>80     </td> <td>1       </td> <td>59  </td> <td>Wartortle </td> <td>88.1           </td> <td>8             </td> <td>65       </td> <td>80        </td> <td>58   </td> <td>water</td> <td>nan   </td> <td>22.5     </td> <td>1         </td> <td>0           </td> <td>Turtle       </td>\n",
       "        </tr>\n",
       "    </tbody>\n",
       "        <tr>\n",
       "            <td>['Torrent', 'Rain Dish']   </td> <td>103   </td> <td>630       </td> <td>45          </td> <td>120    </td> <td>1.6     </td> <td>79  </td> <td>Blastoise </td> <td>88.1           </td> <td>9             </td> <td>135      </td> <td>115       </td> <td>78   </td> <td>water</td> <td>nan   </td> <td>85.5     </td> <td>1         </td> <td>0           </td> <td>Shellfish    </td>\n",
       "        </tr>\n",
       "    </tbody>\n",
       "        <tr>\n",
       "            <td>['Shield Dust', 'Run Away']</td> <td>30    </td> <td>195       </td> <td>255         </td> <td>35     </td> <td>0.3     </td> <td>45  </td> <td>Caterpie  </td> <td>50             </td> <td>10            </td> <td>20       </td> <td>20        </td> <td>45   </td> <td>bug  </td> <td>nan   </td> <td>2.9      </td> <td>1         </td> <td>0           </td> <td>Worm         </td>\n",
       "        </tr>\n",
       "    </tbody>\n",
       "</table>\n",
       "<p>... (791 rows omitted)</p"
      ],
      "text/plain": [
       "abilities                   | attack | base_total | capture_rate | defense | height_m | hp   | name       | percentage_male | pokedex_number | sp_attack | sp_defense | speed | type1 | type2  | weight_kg | generation | is_legendary | classfication\n",
       "['Overgrow', 'Chlorophyll'] | 49     | 318        | 45           | 49      | 0.7      | 45   | Bulbasaur  | 88.1            | 1              | 65        | 65         | 45    | grass | poison | 6.9       | 1          | 0            | Seed\n",
       "['Overgrow', 'Chlorophyll'] | 62     | 405        | 45           | 63      | 1        | 60   | Ivysaur    | 88.1            | 2              | 80        | 80         | 60    | grass | poison | 13        | 1          | 0            | Seed\n",
       "['Overgrow', 'Chlorophyll'] | 100    | 625        | 45           | 123     | 2        | 80   | Venusaur   | 88.1            | 3              | 122       | 120        | 80    | grass | poison | 100       | 1          | 0            | Seed\n",
       "['Blaze', 'Solar Power']    | 52     | 309        | 45           | 43      | 0.6      | 39   | Charmander | 88.1            | 4              | 60        | 50         | 65    | fire  | nan    | 8.5       | 1          | 0            | Lizard\n",
       "['Blaze', 'Solar Power']    | 64     | 405        | 45           | 58      | 1.1      | 58   | Charmeleon | 88.1            | 5              | 80        | 65         | 80    | fire  | nan    | 19        | 1          | 0            | Flame\n",
       "['Blaze', 'Solar Power']    | 104    | 634        | 45           | 78      | 1.7      | 78   | Charizard  | 88.1            | 6              | 159       | 115        | 100   | fire  | flying | 90.5      | 1          | 0            | Flame\n",
       "['Torrent', 'Rain Dish']    | 48     | 314        | 45           | 65      | 0.5      | 44   | Squirtle   | 88.1            | 7              | 50        | 64         | 43    | water | nan    | 9         | 1          | 0            | Tiny Turtle\n",
       "['Torrent', 'Rain Dish']    | 63     | 405        | 45           | 80      | 1        | 59   | Wartortle  | 88.1            | 8              | 65        | 80         | 58    | water | nan    | 22.5      | 1          | 0            | Turtle\n",
       "['Torrent', 'Rain Dish']    | 103    | 630        | 45           | 120     | 1.6      | 79   | Blastoise  | 88.1            | 9              | 135       | 115        | 78    | water | nan    | 85.5      | 1          | 0            | Shellfish\n",
       "['Shield Dust', 'Run Away'] | 30     | 195        | 255          | 35      | 0.3      | 45   | Caterpie   | 50              | 10             | 20        | 20         | 45    | bug   | nan    | 2.9       | 1          | 0            | Worm\n",
       "... (791 rows omitted)"
      ]
     },
     "execution_count": 4,
     "metadata": {},
     "output_type": "execute_result"
    }
   ],
   "source": [
    "#Define a function to simplify the classfication of each pokemon by dropping the end \"Pokemon\" part\n",
    "def simplify_classfication(poke_classfication):\n",
    "    \"\"\"Simplifies classfication of each pokemon by dropping the ' Pokemon' part at the end \"\"\"\n",
    "    return poke_classfication.replace(' Pokémon','')\n",
    "\n",
    "#Apply function to all elments of the classification column, save to an array of simplified classfications\n",
    "simplified_classfication = national_pokedex.apply(simplify_classfication, \"classfication\")\n",
    "\n",
    "#Drop original classfication column and add simplified one\n",
    "national_pokedex=national_pokedex.drop(\"classfication\").with_column(\"classfication\", simplified_classfication)\n",
    "national_pokedex"
   ]
  },
  {
   "cell_type": "code",
   "execution_count": 5,
   "metadata": {},
   "outputs": [
    {
     "data": {
      "text/html": [
       "<table border=\"1\" class=\"dataframe\">\n",
       "    <thead>\n",
       "        <tr>\n",
       "            <th>abilities</th> <th>attack</th> <th>base_total</th> <th>capture_rate</th> <th>defense</th> <th>height_m</th> <th>hp</th> <th>name</th> <th>percentage_male</th> <th>pokedex_number</th> <th>sp_attack</th> <th>sp_defense</th> <th>speed</th> <th>type1</th> <th>type2</th> <th>weight_kg</th> <th>generation</th> <th>is_legendary</th> <th>classfication</th> <th>Attacking Stats %</th>\n",
       "        </tr>\n",
       "    </thead>\n",
       "    <tbody>\n",
       "        <tr>\n",
       "            <td>['Beast Boost']                                             </td> <td>137   </td> <td>570       </td> <td>255         </td> <td>37     </td> <td>1.8     </td> <td>71  </td> <td>Pheromosa</td> <td>nan            </td> <td>795           </td> <td>137      </td> <td>37        </td> <td>151  </td> <td>bug     </td> <td>fighting</td> <td>25       </td> <td>7         </td> <td>1           </td> <td>Lissome      </td> <td>74.56            </td>\n",
       "        </tr>\n",
       "    </tbody>\n",
       "        <tr>\n",
       "            <td>['Rough Skin', 'Speed Boost']                               </td> <td>90    </td> <td>305       </td> <td>225         </td> <td>20     </td> <td>0.8     </td> <td>45  </td> <td>Carvanha </td> <td>50             </td> <td>318           </td> <td>65       </td> <td>20        </td> <td>65   </td> <td>water   </td> <td>dark    </td> <td>20.8     </td> <td>3         </td> <td>0           </td> <td>Savage       </td> <td>72.13            </td>\n",
       "        </tr>\n",
       "    </tbody>\n",
       "        <tr>\n",
       "            <td>['Levitate']                                                </td> <td>35    </td> <td>310       </td> <td>190         </td> <td>30     </td> <td>1.3     </td> <td>30  </td> <td>Gastly   </td> <td>50             </td> <td>92            </td> <td>100      </td> <td>35        </td> <td>80   </td> <td>ghost   </td> <td>poison  </td> <td>0.1      </td> <td>1         </td> <td>0           </td> <td>Gas          </td> <td>69.35            </td>\n",
       "        </tr>\n",
       "    </tbody>\n",
       "        <tr>\n",
       "            <td>['Synchronize', 'Inner Focus', 'Magic Guard']               </td> <td>20    </td> <td>310       </td> <td>200         </td> <td>15     </td> <td>0.9     </td> <td>25  </td> <td>Abra     </td> <td>75.4           </td> <td>63            </td> <td>105      </td> <td>55        </td> <td>90   </td> <td>psychic </td> <td>nan     </td> <td>19.5     </td> <td>1         </td> <td>0           </td> <td>Psi          </td> <td>69.35            </td>\n",
       "        </tr>\n",
       "    </tbody>\n",
       "        <tr>\n",
       "            <td>['Stance Change']                                           </td> <td>150   </td> <td>520       </td> <td>45          </td> <td>50     </td> <td>1.7     </td> <td>60  </td> <td>Aegislash</td> <td>50             </td> <td>681           </td> <td>150      </td> <td>50        </td> <td>60   </td> <td>steel   </td> <td>ghost   </td> <td>53       </td> <td>6         </td> <td>0           </td> <td>Royal Sword  </td> <td>69.23            </td>\n",
       "        </tr>\n",
       "    </tbody>\n",
       "        <tr>\n",
       "            <td>['Sand Veil', 'Arena Trap', 'Sand Force', 'Sand Veil', ' ...</td> <td>55    </td> <td>265       </td> <td>255         </td> <td>30     </td> <td>nan     </td> <td>10  </td> <td>Diglett  </td> <td>50             </td> <td>50            </td> <td>35       </td> <td>45        </td> <td>90   </td> <td>ground  </td> <td>ground  </td> <td>nan      </td> <td>1         </td> <td>0           </td> <td>Mole         </td> <td>67.92            </td>\n",
       "        </tr>\n",
       "    </tbody>\n",
       "        <tr>\n",
       "            <td>['Wonder Guard']                                            </td> <td>90    </td> <td>236       </td> <td>45          </td> <td>45     </td> <td>0.8     </td> <td>1   </td> <td>Shedinja </td> <td>nan            </td> <td>292           </td> <td>30       </td> <td>30        </td> <td>40   </td> <td>bug     </td> <td>ghost   </td> <td>1.2      </td> <td>3         </td> <td>0           </td> <td>Shed         </td> <td>67.8             </td>\n",
       "        </tr>\n",
       "    </tbody>\n",
       "        <tr>\n",
       "            <td>['Pressure', 'Super Luck', 'Justified']                     </td> <td>150   </td> <td>565       </td> <td>30          </td> <td>60     </td> <td>1.2     </td> <td>65  </td> <td>Absol    </td> <td>50             </td> <td>359           </td> <td>115      </td> <td>60        </td> <td>115  </td> <td>dark    </td> <td>nan     </td> <td>47       </td> <td>3         </td> <td>0           </td> <td>Disaster     </td> <td>67.26            </td>\n",
       "        </tr>\n",
       "    </tbody>\n",
       "        <tr>\n",
       "            <td>['Torrent', 'Protean', 'Battle Bond']                       </td> <td>145   </td> <td>640       </td> <td>45          </td> <td>67     </td> <td>1.5     </td> <td>72  </td> <td>Greninja </td> <td>88.1           </td> <td>658           </td> <td>153      </td> <td>71        </td> <td>132  </td> <td>water   </td> <td>dark    </td> <td>40       </td> <td>6         </td> <td>0           </td> <td>Ninja        </td> <td>67.19            </td>\n",
       "        </tr>\n",
       "    </tbody>\n",
       "        <tr>\n",
       "            <td>['Static', 'Lightningrod']                                  </td> <td>40    </td> <td>205       </td> <td>190         </td> <td>15     </td> <td>0.3     </td> <td>20  </td> <td>Pichu    </td> <td>50             </td> <td>172           </td> <td>35       </td> <td>35        </td> <td>60   </td> <td>electric</td> <td>nan     </td> <td>2        </td> <td>2         </td> <td>0           </td> <td>Tiny Mouse   </td> <td>65.85            </td>\n",
       "        </tr>\n",
       "    </tbody>\n",
       "</table>"
      ],
      "text/plain": [
       "abilities                                                    | attack | base_total | capture_rate | defense | height_m | hp   | name      | percentage_male | pokedex_number | sp_attack | sp_defense | speed | type1    | type2    | weight_kg | generation | is_legendary | classfication | Attacking Stats %\n",
       "['Beast Boost']                                              | 137    | 570        | 255          | 37      | 1.8      | 71   | Pheromosa | nan             | 795            | 137       | 37         | 151   | bug      | fighting | 25        | 7          | 1            | Lissome       | 74.56\n",
       "['Rough Skin', 'Speed Boost']                                | 90     | 305        | 225          | 20      | 0.8      | 45   | Carvanha  | 50              | 318            | 65        | 20         | 65    | water    | dark     | 20.8      | 3          | 0            | Savage        | 72.13\n",
       "['Levitate']                                                 | 35     | 310        | 190          | 30      | 1.3      | 30   | Gastly    | 50              | 92             | 100       | 35         | 80    | ghost    | poison   | 0.1       | 1          | 0            | Gas           | 69.35\n",
       "['Synchronize', 'Inner Focus', 'Magic Guard']                | 20     | 310        | 200          | 15      | 0.9      | 25   | Abra      | 75.4            | 63             | 105       | 55         | 90    | psychic  | nan      | 19.5      | 1          | 0            | Psi           | 69.35\n",
       "['Stance Change']                                            | 150    | 520        | 45           | 50      | 1.7      | 60   | Aegislash | 50              | 681            | 150       | 50         | 60    | steel    | ghost    | 53        | 6          | 0            | Royal Sword   | 69.23\n",
       "['Sand Veil', 'Arena Trap', 'Sand Force', 'Sand Veil', ' ... | 55     | 265        | 255          | 30      | nan      | 10   | Diglett   | 50              | 50             | 35        | 45         | 90    | ground   | ground   | nan       | 1          | 0            | Mole          | 67.92\n",
       "['Wonder Guard']                                             | 90     | 236        | 45           | 45      | 0.8      | 1    | Shedinja  | nan             | 292            | 30        | 30         | 40    | bug      | ghost    | 1.2       | 3          | 0            | Shed          | 67.8\n",
       "['Pressure', 'Super Luck', 'Justified']                      | 150    | 565        | 30           | 60      | 1.2      | 65   | Absol     | 50              | 359            | 115       | 60         | 115   | dark     | nan      | 47        | 3          | 0            | Disaster      | 67.26\n",
       "['Torrent', 'Protean', 'Battle Bond']                        | 145    | 640        | 45           | 67      | 1.5      | 72   | Greninja  | 88.1            | 658            | 153       | 71         | 132   | water    | dark     | 40        | 6          | 0            | Ninja         | 67.19\n",
       "['Static', 'Lightningrod']                                   | 40     | 205        | 190          | 15      | 0.3      | 20   | Pichu     | 50              | 172            | 35        | 35         | 60    | electric | nan      | 2         | 2          | 0            | Tiny Mouse    | 65.85"
      ]
     },
     "execution_count": 5,
     "metadata": {},
     "output_type": "execute_result"
    }
   ],
   "source": [
    "def percent_attack(tot_attack, tot):\n",
    "    \"\"\"Converts total attacking stats of each pokemon (Speed + Physical + Special Attack) as a percentage of its total stats\"\"\"\n",
    "    return np.round(tot_attack/tot*100,2)\n",
    "\n",
    "#Apply previous function to national pokedex\n",
    "all_percent_attack = percent_attack(national_pokedex.column(\"attack\")+national_pokedex.column(\"sp_attack\")+national_pokedex.column(\"speed\"),\n",
    "               national_pokedex.column(\"base_total\"))\n",
    "\n",
    "#Add as column to national pokedex\n",
    "national_pokedex = national_pokedex.with_column(\"Attacking Stats %\", all_percent_attack)\n",
    "\n",
    "#What are the 10 most offensively-minded pokemon?\n",
    "national_pokedex.sort(\"Attacking Stats %\", descending = True).take(np.arange(0,10))"
   ]
  },
  {
   "cell_type": "code",
   "execution_count": 6,
   "metadata": {},
   "outputs": [
    {
     "data": {
      "text/html": [
       "<table border=\"1\" class=\"dataframe\">\n",
       "    <thead>\n",
       "        <tr>\n",
       "            <th>Type</th> <th>Average BST</th>\n",
       "        </tr>\n",
       "    </thead>\n",
       "    <tbody>\n",
       "        <tr>\n",
       "            <td>dragon  </td> <td>513        </td>\n",
       "        </tr>\n",
       "    </tbody>\n",
       "        <tr>\n",
       "            <td>steel   </td> <td>493.67     </td>\n",
       "        </tr>\n",
       "    </tbody>\n",
       "        <tr>\n",
       "            <td>psychic </td> <td>463.79     </td>\n",
       "        </tr>\n",
       "    </tbody>\n",
       "        <tr>\n",
       "            <td>fighting</td> <td>456.58     </td>\n",
       "        </tr>\n",
       "    </tbody>\n",
       "        <tr>\n",
       "            <td>fire    </td> <td>453.58     </td>\n",
       "        </tr>\n",
       "    </tbody>\n",
       "        <tr>\n",
       "            <td>dark    </td> <td>447.74     </td>\n",
       "        </tr>\n",
       "    </tbody>\n",
       "        <tr>\n",
       "            <td>ice     </td> <td>447.13     </td>\n",
       "        </tr>\n",
       "    </tbody>\n",
       "        <tr>\n",
       "            <td>rock    </td> <td>446.98     </td>\n",
       "        </tr>\n",
       "    </tbody>\n",
       "        <tr>\n",
       "            <td>ghost   </td> <td>444.8      </td>\n",
       "        </tr>\n",
       "    </tbody>\n",
       "        <tr>\n",
       "            <td>flying  </td> <td>441.73     </td>\n",
       "        </tr>\n",
       "    </tbody>\n",
       "        <tr>\n",
       "            <td>electric</td> <td>440.15     </td>\n",
       "        </tr>\n",
       "    </tbody>\n",
       "        <tr>\n",
       "            <td>ground  </td> <td>428.12     </td>\n",
       "        </tr>\n",
       "    </tbody>\n",
       "        <tr>\n",
       "            <td>fairy   </td> <td>425.81     </td>\n",
       "        </tr>\n",
       "    </tbody>\n",
       "        <tr>\n",
       "            <td>water   </td> <td>424.04     </td>\n",
       "        </tr>\n",
       "    </tbody>\n",
       "        <tr>\n",
       "            <td>grass   </td> <td>413.41     </td>\n",
       "        </tr>\n",
       "    </tbody>\n",
       "        <tr>\n",
       "            <td>normal  </td> <td>401.67     </td>\n",
       "        </tr>\n",
       "    </tbody>\n",
       "        <tr>\n",
       "            <td>poison  </td> <td>397.91     </td>\n",
       "        </tr>\n",
       "    </tbody>\n",
       "        <tr>\n",
       "            <td>bug     </td> <td>380.44     </td>\n",
       "        </tr>\n",
       "    </tbody>\n",
       "</table>"
      ],
      "text/plain": [
       "<IPython.core.display.HTML object>"
      ]
     },
     "metadata": {},
     "output_type": "display_data"
    }
   ],
   "source": [
    "#Create array of pokemon types\n",
    "types = [\"normal\",\"fire\",\"fighting\",\"water\",\"flying\",\"grass\",\"poison\",\"electric\",\"ground\",\"psychic\",\"rock\",\"ice\",\"bug\",\"dragon\",\n",
    "         \"ghost\",\"dark\",\"steel\",\"fairy\"]\n",
    "\n",
    "#array to hold average base total of each type\n",
    "average_bst = []\n",
    "\n",
    "#Calculate average base total of each type\n",
    "for poke_type in types:\n",
    "    #Count the number of pokemon of type depending on whether they are listed under column type1 or type2\n",
    "    n1 = national_pokedex.where(\"type1\", are.equal_to(poke_type)).num_rows\n",
    "    n2 = national_pokedex.where(\"type2\", are.equal_to(poke_type)).num_rows\n",
    "    #Calculate total base stats of pokemon depending on whether they are listed under column type1 or type2\n",
    "    total_bst1 = sum(national_pokedex.where(\"type1\", are.equal_to(poke_type)).column(\"base_total\"))\n",
    "    total_bst2 = sum(national_pokedex.where(\"type2\", are.equal_to(poke_type)).column(\"base_total\"))\n",
    "    #Calculate average bst for all pokemon of type regardless of whether they are listed under column type1 or type2\n",
    "    #Format with 2 decimal points or we will get foating point representation error where we have 453.57999999999 for example\n",
    "    #This changs entries to a string, so necessary to change them back to floats afterwards\n",
    "    average_bst.append(float(\"{0:.2f}\".format((total_bst1 + total_bst2)/(n1 + n2),2))) \n",
    "\n",
    "#Create table with pokemon type and its average base total\n",
    "avg_bst_type = Table().with_column(\"Type\",types).with_column(\"Average BST\", average_bst)\n",
    "avg_bst_type.sort(\"Average BST\", descending = True).show()"
   ]
  },
  {
   "cell_type": "code",
   "execution_count": 7,
   "metadata": {},
   "outputs": [
    {
     "data": {
      "image/png": "[encoded data removed]",
      "text/plain": [
       "<matplotlib.figure.Figure at 0x1bf96ae7780>"
      ]
     },
     "metadata": {},
     "output_type": "display_data"
    }
   ],
   "source": [
    "#Create bar chart to see average BST for each type, sorted in descending order\n",
    "avg_bst_type.sort(\"Average BST\", descending = True).barh(\"Type\",\"Average BST\")"
   ]
  },
  {
   "cell_type": "code",
   "execution_count": 8,
   "metadata": {},
   "outputs": [
    {
     "data": {
      "image/png": "[encoded data removed]",
      "text/plain": [
       "<matplotlib.figure.Figure at 0x1bf96da7080>"
      ]
     },
     "metadata": {},
     "output_type": "display_data"
    }
   ],
   "source": [
    "#Group pokemon by classfication (only take those that occur at least 3 times) \n",
    "#Note that the above process could have been simplifed by simply using this group method!\n",
    "common_classfication_pokedex = national_pokedex.group(\"classfication\").where(\"count\",lambda x: x > 2)\n",
    "common_classfication_pokedex.barh(\"classfication\")"
   ]
  },
  {
   "cell_type": "code",
   "execution_count": 9,
   "metadata": {},
   "outputs": [
    {
     "data": {
      "text/html": [
       "<table border=\"1\" class=\"dataframe\">\n",
       "    <thead>\n",
       "        <tr>\n",
       "            <th>generation</th> <th>attack nanmean</th> <th>base_total nanmean</th> <th>defense nanmean</th> <th>height_m nanmean</th> <th>hp nanmean</th> <th>percentage_male nanmean</th> <th>pokedex_number nanmean</th> <th>sp_attack nanmean</th> <th>sp_defense nanmean</th> <th>speed nanmean</th> <th>weight_kg nanmean</th> <th>is_legendary nanmean</th> <th>Attacking Stats % nanmean</th>\n",
       "        </tr>\n",
       "    </thead>\n",
       "    <tbody>\n",
       "        <tr>\n",
       "            <td>1         </td> <td>74.5298       </td> <td>416.252           </td> <td>70.0795        </td> <td>1.24135         </td> <td>64.3444   </td> <td>55.9819                </td> <td>76                    </td> <td>69.404           </td> <td>67.7417           </td> <td>70.1523      </td> <td>45.8278          </td> <td>0.0331126           </td> <td>51.3514                  </td>\n",
       "        </tr>\n",
       "    </tbody>\n",
       "        <tr>\n",
       "            <td>2         </td> <td>69.96         </td> <td>413.18            </td> <td>71.79          </td> <td>1.163           </td> <td>70.98     </td> <td>54.012                 </td> <td>201.5                 </td> <td>65.4             </td> <td>73.44             </td> <td>61.61        </td> <td>49.105           </td> <td>0.06                </td> <td>47.9217                  </td>\n",
       "        </tr>\n",
       "    </tbody>\n",
       "        <tr>\n",
       "            <td>3         </td> <td>77.1852       </td> <td>420.022           </td> <td>72.637         </td> <td>1.22963         </td> <td>65.6667   </td> <td>54.0555                </td> <td>319                   </td> <td>71.563           </td> <td>69.3926           </td> <td>63.5778      </td> <td>67.0778          </td> <td>0.0740741           </td> <td>50.1346                  </td>\n",
       "        </tr>\n",
       "    </tbody>\n",
       "        <tr>\n",
       "            <td>4         </td> <td>82.6729       </td> <td>451.178           </td> <td>76.1682        </td> <td>1.13364         </td> <td>73.1028   </td> <td>56.8                   </td> <td>440                   </td> <td>74.6355          </td> <td>74.5234           </td> <td>70.0748      </td> <td>76.885           </td> <td>0.121495            </td> <td>49.9875                  </td>\n",
       "        </tr>\n",
       "    </tbody>\n",
       "        <tr>\n",
       "            <td>5         </td> <td>80.5577       </td> <td>427.038           </td> <td>71.9615        </td> <td>1.03205         </td> <td>70.3141   </td> <td>56.4236                </td> <td>571.5                 </td> <td>69.9744          </td> <td>67.7115           </td> <td>66.5192      </td> <td>52.4026          </td> <td>0.0833333           </td> <td>50.5948                  </td>\n",
       "        </tr>\n",
       "    </tbody>\n",
       "        <tr>\n",
       "            <td>6         </td> <td>76.5278       </td> <td>437.611           </td> <td>73.5556        </td> <td>1.09296         </td> <td>71.1111   </td> <td>54.7046                </td> <td>685.5                 </td> <td>76.5694          </td> <td>73.1944           </td> <td>66.6528      </td> <td>52.2254          </td> <td>0.0833333           </td> <td>49.9049                  </td>\n",
       "        </tr>\n",
       "    </tbody>\n",
       "        <tr>\n",
       "            <td>7         </td> <td>84.6375       </td> <td>448.163           </td> <td>78.0125        </td> <td>1.28734         </td> <td>70.575    </td> <td>52.2068                </td> <td>761.5                 </td> <td>75.25            </td> <td>75.65             </td> <td>64.0375      </td> <td>98.3             </td> <td>0.2125              </td> <td>49.9548                  </td>\n",
       "        </tr>\n",
       "    </tbody>\n",
       "</table>"
      ],
      "text/plain": [
       "generation | attack nanmean | base_total nanmean | defense nanmean | height_m nanmean | hp nanmean | percentage_male nanmean | pokedex_number nanmean | sp_attack nanmean | sp_defense nanmean | speed nanmean | weight_kg nanmean | is_legendary nanmean | Attacking Stats % nanmean\n",
       "1          | 74.5298        | 416.252            | 70.0795         | 1.24135          | 64.3444    | 55.9819                 | 76                     | 69.404            | 67.7417            | 70.1523       | 45.8278           | 0.0331126            | 51.3514\n",
       "2          | 69.96          | 413.18             | 71.79           | 1.163            | 70.98      | 54.012                  | 201.5                  | 65.4              | 73.44              | 61.61         | 49.105            | 0.06                 | 47.9217\n",
       "3          | 77.1852        | 420.022            | 72.637          | 1.22963          | 65.6667    | 54.0555                 | 319                    | 71.563            | 69.3926            | 63.5778       | 67.0778           | 0.0740741            | 50.1346\n",
       "4          | 82.6729        | 451.178            | 76.1682         | 1.13364          | 73.1028    | 56.8                    | 440                    | 74.6355           | 74.5234            | 70.0748       | 76.885            | 0.121495             | 49.9875\n",
       "5          | 80.5577        | 427.038            | 71.9615         | 1.03205          | 70.3141    | 56.4236                 | 571.5                  | 69.9744           | 67.7115            | 66.5192       | 52.4026           | 0.0833333            | 50.5948\n",
       "6          | 76.5278        | 437.611            | 73.5556         | 1.09296          | 71.1111    | 54.7046                 | 685.5                  | 76.5694           | 73.1944            | 66.6528       | 52.2254           | 0.0833333            | 49.9049\n",
       "7          | 84.6375        | 448.163            | 78.0125         | 1.28734          | 70.575     | 52.2068                 | 761.5                  | 75.25             | 75.65              | 64.0375       | 98.3              | 0.2125               | 49.9548"
      ]
     },
     "execution_count": 9,
     "metadata": {},
     "output_type": "execute_result"
    }
   ],
   "source": [
    "#Find average of each column after grouping by generation, ignoring NaN's so using np.nanmean instead of np.average\n",
    "gen_averages = national_pokedex.group(\"generation\",np.nanmean)\n",
    "\n",
    "#Drop columns without numeric values (average would be meaningless)\n",
    "gen_averages = gen_averages.drop(\"abilities nanmean\").drop(\"name nanmean\").drop(\"type1 nanmean\").drop(\"type2 nanmean\").drop(\"classfication nanmean\").drop(\"capture_rate nanmean\")\n",
    "gen_averages"
   ]
  },
  {
   "cell_type": "code",
   "execution_count": 11,
   "metadata": {},
   "outputs": [
    {
     "data": {
      "text/html": [
       "<table border=\"1\" class=\"dataframe\">\n",
       "    <thead>\n",
       "        <tr>\n",
       "            <th>is_legendary</th> <th>1</th> <th>2</th> <th>3</th> <th>4</th> <th>5</th> <th>6</th> <th>7</th>\n",
       "        </tr>\n",
       "    </thead>\n",
       "    <tbody>\n",
       "        <tr>\n",
       "            <td>0           </td> <td>146 </td> <td>94  </td> <td>125 </td> <td>94  </td> <td>143 </td> <td>66  </td> <td>63  </td>\n",
       "        </tr>\n",
       "    </tbody>\n",
       "        <tr>\n",
       "            <td>1           </td> <td>5   </td> <td>6   </td> <td>10  </td> <td>13  </td> <td>13  </td> <td>6   </td> <td>17  </td>\n",
       "        </tr>\n",
       "    </tbody>\n",
       "</table>"
      ],
      "text/plain": [
       "is_legendary | 1    | 2    | 3    | 4    | 5    | 6    | 7\n",
       "0            | 146  | 94   | 125  | 94   | 143  | 66   | 63\n",
       "1            | 5    | 6    | 10   | 13   | 13   | 6    | 17"
      ]
     },
     "execution_count": 11,
     "metadata": {},
     "output_type": "execute_result"
    }
   ],
   "source": [
    "#Number of legendary and non-legendary pokemon in each generation in a pivot table\n",
    "national_pokedex.pivot(\"generation\",\"is_legendary\")"
   ]
  },
  {
   "cell_type": "code",
   "execution_count": 12,
   "metadata": {},
   "outputs": [
    {
     "data": {
      "text/html": [
       "<table border=\"1\" class=\"dataframe\">\n",
       "    <thead>\n",
       "        <tr>\n",
       "            <th>abilities</th> <th>attack</th> <th>base_total</th> <th>capture_rate</th> <th>defense</th> <th>height_m</th> <th>hp</th> <th>name</th> <th>percentage_male</th> <th>pokedex_number</th> <th>sp_attack</th> <th>sp_defense</th> <th>speed</th> <th>type</th> <th>weight_kg</th> <th>generation</th> <th>is_legendary</th> <th>classfication</th> <th>Attacking Stats %</th>\n",
       "        </tr>\n",
       "    </thead>\n",
       "    <tbody>\n",
       "        <tr>\n",
       "            <td>['Overgrow', 'Chlorophyll']</td> <td>49    </td> <td>318       </td> <td>45          </td> <td>49     </td> <td>0.7     </td> <td>45  </td> <td>Bulbasaur </td> <td>88.1           </td> <td>1             </td> <td>65       </td> <td>65        </td> <td>45   </td> <td>grass</td> <td>6.9      </td> <td>1         </td> <td>0           </td> <td>Seed         </td> <td>50               </td>\n",
       "        </tr>\n",
       "    </tbody>\n",
       "        <tr>\n",
       "            <td>['Overgrow', 'Chlorophyll']</td> <td>62    </td> <td>405       </td> <td>45          </td> <td>63     </td> <td>1       </td> <td>60  </td> <td>Ivysaur   </td> <td>88.1           </td> <td>2             </td> <td>80       </td> <td>80        </td> <td>60   </td> <td>grass</td> <td>13       </td> <td>1         </td> <td>0           </td> <td>Seed         </td> <td>49.88            </td>\n",
       "        </tr>\n",
       "    </tbody>\n",
       "        <tr>\n",
       "            <td>['Overgrow', 'Chlorophyll']</td> <td>100   </td> <td>625       </td> <td>45          </td> <td>123    </td> <td>2       </td> <td>80  </td> <td>Venusaur  </td> <td>88.1           </td> <td>3             </td> <td>122      </td> <td>120       </td> <td>80   </td> <td>grass</td> <td>100      </td> <td>1         </td> <td>0           </td> <td>Seed         </td> <td>48.32            </td>\n",
       "        </tr>\n",
       "    </tbody>\n",
       "        <tr>\n",
       "            <td>['Blaze', 'Solar Power']   </td> <td>52    </td> <td>309       </td> <td>45          </td> <td>43     </td> <td>0.6     </td> <td>39  </td> <td>Charmander</td> <td>88.1           </td> <td>4             </td> <td>60       </td> <td>50        </td> <td>65   </td> <td>fire </td> <td>8.5      </td> <td>1         </td> <td>0           </td> <td>Lizard       </td> <td>57.28            </td>\n",
       "        </tr>\n",
       "    </tbody>\n",
       "        <tr>\n",
       "            <td>['Blaze', 'Solar Power']   </td> <td>64    </td> <td>405       </td> <td>45          </td> <td>58     </td> <td>1.1     </td> <td>58  </td> <td>Charmeleon</td> <td>88.1           </td> <td>5             </td> <td>80       </td> <td>65        </td> <td>80   </td> <td>fire </td> <td>19       </td> <td>1         </td> <td>0           </td> <td>Flame        </td> <td>55.31            </td>\n",
       "        </tr>\n",
       "    </tbody>\n",
       "        <tr>\n",
       "            <td>['Blaze', 'Solar Power']   </td> <td>104   </td> <td>634       </td> <td>45          </td> <td>78     </td> <td>1.7     </td> <td>78  </td> <td>Charizard </td> <td>88.1           </td> <td>6             </td> <td>159      </td> <td>115       </td> <td>100  </td> <td>fire </td> <td>90.5     </td> <td>1         </td> <td>0           </td> <td>Flame        </td> <td>57.26            </td>\n",
       "        </tr>\n",
       "    </tbody>\n",
       "        <tr>\n",
       "            <td>['Torrent', 'Rain Dish']   </td> <td>48    </td> <td>314       </td> <td>45          </td> <td>65     </td> <td>0.5     </td> <td>44  </td> <td>Squirtle  </td> <td>88.1           </td> <td>7             </td> <td>50       </td> <td>64        </td> <td>43   </td> <td>water</td> <td>9        </td> <td>1         </td> <td>0           </td> <td>Tiny Turtle  </td> <td>44.9             </td>\n",
       "        </tr>\n",
       "    </tbody>\n",
       "        <tr>\n",
       "            <td>['Torrent', 'Rain Dish']   </td> <td>63    </td> <td>405       </td> <td>45          </td> <td>80     </td> <td>1       </td> <td>59  </td> <td>Wartortle </td> <td>88.1           </td> <td>8             </td> <td>65       </td> <td>80        </td> <td>58   </td> <td>water</td> <td>22.5     </td> <td>1         </td> <td>0           </td> <td>Turtle       </td> <td>45.93            </td>\n",
       "        </tr>\n",
       "    </tbody>\n",
       "        <tr>\n",
       "            <td>['Torrent', 'Rain Dish']   </td> <td>103   </td> <td>630       </td> <td>45          </td> <td>120    </td> <td>1.6     </td> <td>79  </td> <td>Blastoise </td> <td>88.1           </td> <td>9             </td> <td>135      </td> <td>115       </td> <td>78   </td> <td>water</td> <td>85.5     </td> <td>1         </td> <td>0           </td> <td>Shellfish    </td> <td>50.16            </td>\n",
       "        </tr>\n",
       "    </tbody>\n",
       "        <tr>\n",
       "            <td>['Shield Dust', 'Run Away']</td> <td>30    </td> <td>195       </td> <td>255         </td> <td>35     </td> <td>0.3     </td> <td>45  </td> <td>Caterpie  </td> <td>50             </td> <td>10            </td> <td>20       </td> <td>20        </td> <td>45   </td> <td>bug  </td> <td>2.9      </td> <td>1         </td> <td>0           </td> <td>Worm         </td> <td>48.72            </td>\n",
       "        </tr>\n",
       "    </tbody>\n",
       "</table>\n",
       "<p>... (1208 rows omitted)</p"
      ],
      "text/plain": [
       "abilities                   | attack | base_total | capture_rate | defense | height_m | hp   | name       | percentage_male | pokedex_number | sp_attack | sp_defense | speed | type  | weight_kg | generation | is_legendary | classfication | Attacking Stats %\n",
       "['Overgrow', 'Chlorophyll'] | 49     | 318        | 45           | 49      | 0.7      | 45   | Bulbasaur  | 88.1            | 1              | 65        | 65         | 45    | grass | 6.9       | 1          | 0            | Seed          | 50\n",
       "['Overgrow', 'Chlorophyll'] | 62     | 405        | 45           | 63      | 1        | 60   | Ivysaur    | 88.1            | 2              | 80        | 80         | 60    | grass | 13        | 1          | 0            | Seed          | 49.88\n",
       "['Overgrow', 'Chlorophyll'] | 100    | 625        | 45           | 123     | 2        | 80   | Venusaur   | 88.1            | 3              | 122       | 120        | 80    | grass | 100       | 1          | 0            | Seed          | 48.32\n",
       "['Blaze', 'Solar Power']    | 52     | 309        | 45           | 43      | 0.6      | 39   | Charmander | 88.1            | 4              | 60        | 50         | 65    | fire  | 8.5       | 1          | 0            | Lizard        | 57.28\n",
       "['Blaze', 'Solar Power']    | 64     | 405        | 45           | 58      | 1.1      | 58   | Charmeleon | 88.1            | 5              | 80        | 65         | 80    | fire  | 19        | 1          | 0            | Flame         | 55.31\n",
       "['Blaze', 'Solar Power']    | 104    | 634        | 45           | 78      | 1.7      | 78   | Charizard  | 88.1            | 6              | 159       | 115        | 100   | fire  | 90.5      | 1          | 0            | Flame         | 57.26\n",
       "['Torrent', 'Rain Dish']    | 48     | 314        | 45           | 65      | 0.5      | 44   | Squirtle   | 88.1            | 7              | 50        | 64         | 43    | water | 9         | 1          | 0            | Tiny Turtle   | 44.9\n",
       "['Torrent', 'Rain Dish']    | 63     | 405        | 45           | 80      | 1        | 59   | Wartortle  | 88.1            | 8              | 65        | 80         | 58    | water | 22.5      | 1          | 0            | Turtle        | 45.93\n",
       "['Torrent', 'Rain Dish']    | 103    | 630        | 45           | 120     | 1.6      | 79   | Blastoise  | 88.1            | 9              | 135       | 115        | 78    | water | 85.5      | 1          | 0            | Shellfish     | 50.16\n",
       "['Shield Dust', 'Run Away'] | 30     | 195        | 255          | 35      | 0.3      | 45   | Caterpie   | 50              | 10             | 20        | 20         | 45    | bug   | 2.9       | 1          | 0            | Worm          | 48.72\n",
       "... (1208 rows omitted)"
      ]
     },
     "execution_count": 12,
     "metadata": {},
     "output_type": "execute_result"
    }
   ],
   "source": [
    "#Create two seperate tables with the type depending on entry in type1 or type2 \n",
    "first_types = national_pokedex.drop(\"type2\").relabeled(\"type1\",\"type\")\n",
    "#Note this second table only contains pokemon who have a second type, i.e., type 2 isn't missing\n",
    "second_types = national_pokedex.where(\"type2\", lambda x: x !=\"nan\").drop(\"type1\").relabeled(\"type2\", \"type\")\n",
    "\n",
    "#Add second types table as additinal rows to first types table\n",
    "all_types = first_types.with_row(second_types)\n",
    "all_types"
   ]
  },
  {
   "cell_type": "code",
   "execution_count": 13,
   "metadata": {},
   "outputs": [
    {
     "data": {
      "text/html": [
       "<table border=\"1\" class=\"dataframe\">\n",
       "    <thead>\n",
       "        <tr>\n",
       "            <th>generation</th> <th>bug</th> <th>dark</th> <th>dragon</th> <th>electric</th> <th>fairy</th> <th>fighting</th> <th>fire</th> <th>flying</th> <th>ghost</th> <th>grass</th> <th>ground</th> <th>ice</th> <th>normal</th> <th>poison</th> <th>psychic</th> <th>rock</th> <th>steel</th> <th>water</th>\n",
       "        </tr>\n",
       "    </thead>\n",
       "    <tbody>\n",
       "        <tr>\n",
       "            <td>1         </td> <td>12  </td> <td>4   </td> <td>3     </td> <td>10      </td> <td>5    </td> <td>8       </td> <td>13  </td> <td>19    </td> <td>3    </td> <td>14   </td> <td>16    </td> <td>9   </td> <td>22    </td> <td>35    </td> <td>14     </td> <td>11  </td> <td>2    </td> <td>32   </td>\n",
       "        </tr>\n",
       "    </tbody>\n",
       "        <tr>\n",
       "            <td>2         </td> <td>10  </td> <td>6   </td> <td>1     </td> <td>8       </td> <td>8    </td> <td>3       </td> <td>10  </td> <td>19    </td> <td>1    </td> <td>10   </td> <td>10    </td> <td>5   </td> <td>15    </td> <td>4     </td> <td>10     </td> <td>7   </td> <td>4    </td> <td>18   </td>\n",
       "        </tr>\n",
       "    </tbody>\n",
       "        <tr>\n",
       "            <td>3         </td> <td>14  </td> <td>10  </td> <td>9     </td> <td>4       </td> <td>5    </td> <td>7       </td> <td>6   </td> <td>12    </td> <td>6    </td> <td>17   </td> <td>13    </td> <td>6   </td> <td>18    </td> <td>5     </td> <td>20     </td> <td>12  </td> <td>9    </td> <td>28   </td>\n",
       "        </tr>\n",
       "    </tbody>\n",
       "        <tr>\n",
       "            <td>4         </td> <td>9   </td> <td>7   </td> <td>6     </td> <td>7       </td> <td>2    </td> <td>7       </td> <td>5   </td> <td>14    </td> <td>8    </td> <td>15   </td> <td>10    </td> <td>6   </td> <td>17    </td> <td>8     </td> <td>9      </td> <td>7   </td> <td>10   </td> <td>14   </td>\n",
       "        </tr>\n",
       "    </tbody>\n",
       "        <tr>\n",
       "            <td>5         </td> <td>18  </td> <td>16  </td> <td>10    </td> <td>11      </td> <td>2    </td> <td>15      </td> <td>16  </td> <td>18    </td> <td>9    </td> <td>20   </td> <td>11    </td> <td>7   </td> <td>17    </td> <td>7     </td> <td>15     </td> <td>10  </td> <td>12   </td> <td>17   </td>\n",
       "        </tr>\n",
       "    </tbody>\n",
       "        <tr>\n",
       "            <td>6         </td> <td>3   </td> <td>5   </td> <td>9     </td> <td>3       </td> <td>13   </td> <td>4       </td> <td>8   </td> <td>8     </td> <td>8    </td> <td>9    </td> <td>2     </td> <td>4   </td> <td>8     </td> <td>2     </td> <td>6      </td> <td>8   </td> <td>4    </td> <td>9    </td>\n",
       "        </tr>\n",
       "    </tbody>\n",
       "        <tr>\n",
       "            <td>7         </td> <td>11  </td> <td>2   </td> <td>6     </td> <td>5       </td> <td>12   </td> <td>9       </td> <td>7   </td> <td>8     </td> <td>6    </td> <td>13   </td> <td>4     </td> <td>1   </td> <td>12    </td> <td>5     </td> <td>8      </td> <td>4   </td> <td>5    </td> <td>13   </td>\n",
       "        </tr>\n",
       "    </tbody>\n",
       "</table>"
      ],
      "text/plain": [
       "generation | bug  | dark | dragon | electric | fairy | fighting | fire | flying | ghost | grass | ground | ice  | normal | poison | psychic | rock | steel | water\n",
       "1          | 12   | 4    | 3      | 10       | 5     | 8        | 13   | 19     | 3     | 14    | 16     | 9    | 22     | 35     | 14      | 11   | 2     | 32\n",
       "2          | 10   | 6    | 1      | 8        | 8     | 3        | 10   | 19     | 1     | 10    | 10     | 5    | 15     | 4      | 10      | 7    | 4     | 18\n",
       "3          | 14   | 10   | 9      | 4        | 5     | 7        | 6    | 12     | 6     | 17    | 13     | 6    | 18     | 5      | 20      | 12   | 9     | 28\n",
       "4          | 9    | 7    | 6      | 7        | 2     | 7        | 5    | 14     | 8     | 15    | 10     | 6    | 17     | 8      | 9       | 7    | 10    | 14\n",
       "5          | 18   | 16   | 10     | 11       | 2     | 15       | 16   | 18     | 9     | 20    | 11     | 7    | 17     | 7      | 15      | 10   | 12    | 17\n",
       "6          | 3    | 5    | 9      | 3        | 13    | 4        | 8    | 8      | 8     | 9     | 2      | 4    | 8      | 2      | 6       | 8    | 4     | 9\n",
       "7          | 11   | 2    | 6      | 5        | 12    | 9        | 7    | 8      | 6     | 13    | 4      | 1    | 12     | 5      | 8       | 4    | 5     | 13"
      ]
     },
     "execution_count": 13,
     "metadata": {},
     "output_type": "execute_result"
    }
   ],
   "source": [
    "#Counts number of pokemon of each type in each generation\n",
    "all_types.pivot(\"type\",\"generation\")"
   ]
  },
  {
   "cell_type": "code",
   "execution_count": 14,
   "metadata": {},
   "outputs": [
    {
     "data": {
      "text/html": [
       "<table border=\"1\" class=\"dataframe\">\n",
       "    <thead>\n",
       "        <tr>\n",
       "            <th>generation</th> <th>bug</th> <th>dark</th> <th>dragon</th> <th>electric</th> <th>fairy</th> <th>fighting</th> <th>fire</th> <th>flying</th> <th>ghost</th> <th>grass</th> <th>ground</th> <th>ice</th> <th>normal</th> <th>poison</th> <th>psychic</th> <th>rock</th> <th>steel</th> <th>water</th>\n",
       "        </tr>\n",
       "    </thead>\n",
       "    <tbody>\n",
       "        <tr>\n",
       "            <td>1         </td> <td>352.917</td> <td>349    </td> <td>440    </td> <td>449.5   </td> <td>394.2  </td> <td>424.375 </td> <td>460.923</td> <td>466.526</td> <td>438.333</td> <td>408.071</td> <td>392.812</td> <td>458.222</td> <td>391.091</td> <td>392.914</td> <td>478.286</td> <td>428.636</td> <td>395    </td> <td>422.312</td>\n",
       "        </tr>\n",
       "    </tbody>\n",
       "        <tr>\n",
       "            <td>2         </td> <td>415.5  </td> <td>498.333</td> <td>540    </td> <td>398.75  </td> <td>312.25 </td> <td>421.667 </td> <td>448.3  </td> <td>421.789</td> <td>435    </td> <td>399.3  </td> <td>392    </td> <td>353    </td> <td>391.6  </td> <td>406.25 </td> <td>458.6  </td> <td>452.143</td> <td>535    </td> <td>420.778</td>\n",
       "        </tr>\n",
       "    </tbody>\n",
       "        <tr>\n",
       "            <td>3         </td> <td>341.143</td> <td>431.3  </td> <td>561.111</td> <td>420     </td> <td>352.8  </td> <td>428     </td> <td>446.667</td> <td>465    </td> <td>386    </td> <td>394.118</td> <td>434.385</td> <td>448.333</td> <td>372.389</td> <td>402.4  </td> <td>456.95 </td> <td>454.167</td> <td>496.667</td> <td>412    </td>\n",
       "        </tr>\n",
       "    </tbody>\n",
       "        <tr>\n",
       "            <td>4         </td> <td>357    </td> <td>486.857</td> <td>575    </td> <td>449.857 </td> <td>427.5  </td> <td>465.286 </td> <td>477.6  </td> <td>420.643</td> <td>503.875</td> <td>455.6  </td> <td>484    </td> <td>495.5  </td> <td>433.235</td> <td>402.875</td> <td>483.667</td> <td>434.286</td> <td>514    </td> <td>441.357</td>\n",
       "        </tr>\n",
       "    </tbody>\n",
       "        <tr>\n",
       "            <td>5         </td> <td>416.667</td> <td>412.188</td> <td>513.5  </td> <td>448.818 </td> <td>380    </td> <td>473.8   </td> <td>456.375</td> <td>445.667</td> <td>394.667</td> <td>408.8  </td> <td>431.636</td> <td>465.714</td> <td>412.059</td> <td>380.857</td> <td>423.8  </td> <td>439.3  </td> <td>462.583</td> <td>423.706</td>\n",
       "        </tr>\n",
       "    </tbody>\n",
       "        <tr>\n",
       "            <td>6         </td> <td>274.667</td> <td>517    </td> <td>468.556</td> <td>400.333 </td> <td>487.385</td> <td>468.25  </td> <td>450.875</td> <td>441.25 </td> <td>448.125</td> <td>415.667</td> <td>565.5  </td> <td>425.25 </td> <td>382    </td> <td>407    </td> <td>467.5  </td> <td>471.5  </td> <td>440.75 </td> <td>435    </td>\n",
       "        </tr>\n",
       "    </tbody>\n",
       "        <tr>\n",
       "            <td>7         </td> <td>417.364</td> <td>550    </td> <td>476.667</td> <td>495     </td> <td>485.75 </td> <td>478.444 </td> <td>433    </td> <td>423.875</td> <td>500.5  </td> <td>412.077</td> <td>421.25 </td> <td>478    </td> <td>431.25 </td> <td>434    </td> <td>511.875</td> <td>459.25 </td> <td>571    </td> <td>432.923</td>\n",
       "        </tr>\n",
       "    </tbody>\n",
       "</table>"
      ],
      "text/plain": [
       "generation | bug     | dark    | dragon  | electric | fairy   | fighting | fire    | flying  | ghost   | grass   | ground  | ice     | normal  | poison  | psychic | rock    | steel   | water\n",
       "1          | 352.917 | 349     | 440     | 449.5    | 394.2   | 424.375  | 460.923 | 466.526 | 438.333 | 408.071 | 392.812 | 458.222 | 391.091 | 392.914 | 478.286 | 428.636 | 395     | 422.312\n",
       "2          | 415.5   | 498.333 | 540     | 398.75   | 312.25  | 421.667  | 448.3   | 421.789 | 435     | 399.3   | 392     | 353     | 391.6   | 406.25  | 458.6   | 452.143 | 535     | 420.778\n",
       "3          | 341.143 | 431.3   | 561.111 | 420      | 352.8   | 428      | 446.667 | 465     | 386     | 394.118 | 434.385 | 448.333 | 372.389 | 402.4   | 456.95  | 454.167 | 496.667 | 412\n",
       "4          | 357     | 486.857 | 575     | 449.857  | 427.5   | 465.286  | 477.6   | 420.643 | 503.875 | 455.6   | 484     | 495.5   | 433.235 | 402.875 | 483.667 | 434.286 | 514     | 441.357\n",
       "5          | 416.667 | 412.188 | 513.5   | 448.818  | 380     | 473.8    | 456.375 | 445.667 | 394.667 | 408.8   | 431.636 | 465.714 | 412.059 | 380.857 | 423.8   | 439.3   | 462.583 | 423.706\n",
       "6          | 274.667 | 517     | 468.556 | 400.333  | 487.385 | 468.25   | 450.875 | 441.25  | 448.125 | 415.667 | 565.5   | 425.25  | 382     | 407     | 467.5   | 471.5   | 440.75  | 435\n",
       "7          | 417.364 | 550     | 476.667 | 495      | 485.75  | 478.444  | 433     | 423.875 | 500.5   | 412.077 | 421.25  | 478     | 431.25  | 434     | 511.875 | 459.25  | 571     | 432.923"
      ]
     },
     "execution_count": 14,
     "metadata": {},
     "output_type": "execute_result"
    }
   ],
   "source": [
    "#Average base total stat of pokemon of each type in each generation\n",
    "all_types.pivot(\"type\",\"generation\",values = \"base_total\", collect = np.mean)"
   ]
  },
  {
   "cell_type": "code",
   "execution_count": 15,
   "metadata": {
    "collapsed": true
   },
   "outputs": [],
   "source": [
    "#Name of pokemon of highest base total stat of each type in each generation [TO-DO]"
   ]
  }
 ],
 "metadata": {
  "kernelspec": {
   "display_name": "Python 3",
   "language": "python",
   "name": "python3"
  },
  "language_info": {
   "codemirror_mode": {
    "name": "ipython",
    "version": 3
   },
   "file_extension": ".py",
   "mimetype": "text/x-python",
   "name": "python",
   "nbconvert_exporter": "python",
   "pygments_lexer": "ipython3",
   "version": "3.6.1"
  }
 },
 "nbformat": 4,
 "nbformat_minor": 2
}
